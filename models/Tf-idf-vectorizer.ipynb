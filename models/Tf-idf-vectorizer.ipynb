{
 "cells": [
  {
   "cell_type": "code",
   "execution_count": 5,
   "outputs": [
    {
     "data": {
      "text/plain": "   num_labels                                   processed_tweets\n0           1      alright ChatGPT AI pretty neat @nocontextvarg\n1           1  ok definitely go replace soon importantly chat...\n2           0  ask chatgpt explain 4 famous chess quote Timma...\n3           1                               chatgpt popular good\n4           0  write ida plugin query chatgpt explain decompi...",
      "text/html": "<div>\n<style scoped>\n    .dataframe tbody tr th:only-of-type {\n        vertical-align: middle;\n    }\n\n    .dataframe tbody tr th {\n        vertical-align: top;\n    }\n\n    .dataframe thead th {\n        text-align: right;\n    }\n</style>\n<table border=\"1\" class=\"dataframe\">\n  <thead>\n    <tr style=\"text-align: right;\">\n      <th></th>\n      <th>num_labels</th>\n      <th>processed_tweets</th>\n    </tr>\n  </thead>\n  <tbody>\n    <tr>\n      <th>0</th>\n      <td>1</td>\n      <td>alright ChatGPT AI pretty neat @nocontextvarg</td>\n    </tr>\n    <tr>\n      <th>1</th>\n      <td>1</td>\n      <td>ok definitely go replace soon importantly chat...</td>\n    </tr>\n    <tr>\n      <th>2</th>\n      <td>0</td>\n      <td>ask chatgpt explain 4 famous chess quote Timma...</td>\n    </tr>\n    <tr>\n      <th>3</th>\n      <td>1</td>\n      <td>chatgpt popular good</td>\n    </tr>\n    <tr>\n      <th>4</th>\n      <td>0</td>\n      <td>write ida plugin query chatgpt explain decompi...</td>\n    </tr>\n  </tbody>\n</table>\n</div>"
     },
     "execution_count": 5,
     "metadata": {},
     "output_type": "execute_result"
    }
   ],
   "source": [
    "from sklearn.feature_extraction.text import TfidfVectorizer\n",
    "from sklearn.metrics import confusion_matrix, classification_report\n",
    "import pandas as pd\n",
    "\n",
    "df = pd.read_csv(r\"C:\\Python Codes\\Code\\Code\\ChatGPT-sentiment-analysis\\processed_file.csv\")\n",
    "\n",
    "df.head()"
   ],
   "metadata": {
    "collapsed": false,
    "ExecuteTime": {
     "end_time": "2024-01-04T15:25:24.252448100Z",
     "start_time": "2024-01-04T15:25:24.137069Z"
    }
   },
   "id": "c156a805085b3ded"
  },
  {
   "cell_type": "code",
   "execution_count": 6,
   "outputs": [],
   "source": [
    "df = df.dropna().drop_duplicates()"
   ],
   "metadata": {
    "collapsed": false,
    "ExecuteTime": {
     "end_time": "2024-01-04T15:25:26.928858800Z",
     "start_time": "2024-01-04T15:25:26.874128300Z"
    }
   },
   "id": "46e4782505a7ea99"
  },
  {
   "cell_type": "code",
   "execution_count": 7,
   "outputs": [],
   "source": [
    "X = df.processed_tweets\n",
    "y = df.num_labels"
   ],
   "metadata": {
    "collapsed": false,
    "ExecuteTime": {
     "end_time": "2024-01-04T15:25:28.679082800Z",
     "start_time": "2024-01-04T15:25:28.649202500Z"
    }
   },
   "id": "ac7657f8c8131226"
  },
  {
   "cell_type": "markdown",
   "source": [
    "# Models:\n",
    "- SVM\n",
    "- KNN\n",
    "- Gradient Boosting\n",
    "- Multinomial NB\n",
    "- Random Forest\n",
    "- Logistic Regression\n",
    "- Decision Tree Classifier\n",
    "- Gaussian NB"
   ],
   "metadata": {
    "collapsed": false
   },
   "id": "bf85db7df4b418c1"
  },
  {
   "cell_type": "markdown",
   "source": [
    "# 1. SVM:"
   ],
   "metadata": {
    "collapsed": false
   },
   "id": "e7760a31327b668f"
  },
  {
   "cell_type": "markdown",
   "source": [
    "# 2. Multinomial NB:"
   ],
   "metadata": {
    "collapsed": false
   },
   "id": "92b1eccbad6d4612"
  },
  {
   "cell_type": "code",
   "execution_count": 8,
   "outputs": [
    {
     "data": {
      "text/plain": "GridSearchCV(cv=10,\n             estimator=Pipeline(steps=[('tfidf', TfidfVectorizer()),\n                                       ('mnb', MultinomialNB())]),\n             n_jobs=4, param_grid={'mnb__alpha': [True, False]},\n             scoring='accuracy')",
      "text/html": "<style>#sk-container-id-1 {color: black;}#sk-container-id-1 pre{padding: 0;}#sk-container-id-1 div.sk-toggleable {background-color: white;}#sk-container-id-1 label.sk-toggleable__label {cursor: pointer;display: block;width: 100%;margin-bottom: 0;padding: 0.3em;box-sizing: border-box;text-align: center;}#sk-container-id-1 label.sk-toggleable__label-arrow:before {content: \"▸\";float: left;margin-right: 0.25em;color: #696969;}#sk-container-id-1 label.sk-toggleable__label-arrow:hover:before {color: black;}#sk-container-id-1 div.sk-estimator:hover label.sk-toggleable__label-arrow:before {color: black;}#sk-container-id-1 div.sk-toggleable__content {max-height: 0;max-width: 0;overflow: hidden;text-align: left;background-color: #f0f8ff;}#sk-container-id-1 div.sk-toggleable__content pre {margin: 0.2em;color: black;border-radius: 0.25em;background-color: #f0f8ff;}#sk-container-id-1 input.sk-toggleable__control:checked~div.sk-toggleable__content {max-height: 200px;max-width: 100%;overflow: auto;}#sk-container-id-1 input.sk-toggleable__control:checked~label.sk-toggleable__label-arrow:before {content: \"▾\";}#sk-container-id-1 div.sk-estimator input.sk-toggleable__control:checked~label.sk-toggleable__label {background-color: #d4ebff;}#sk-container-id-1 div.sk-label input.sk-toggleable__control:checked~label.sk-toggleable__label {background-color: #d4ebff;}#sk-container-id-1 input.sk-hidden--visually {border: 0;clip: rect(1px 1px 1px 1px);clip: rect(1px, 1px, 1px, 1px);height: 1px;margin: -1px;overflow: hidden;padding: 0;position: absolute;width: 1px;}#sk-container-id-1 div.sk-estimator {font-family: monospace;background-color: #f0f8ff;border: 1px dotted black;border-radius: 0.25em;box-sizing: border-box;margin-bottom: 0.5em;}#sk-container-id-1 div.sk-estimator:hover {background-color: #d4ebff;}#sk-container-id-1 div.sk-parallel-item::after {content: \"\";width: 100%;border-bottom: 1px solid gray;flex-grow: 1;}#sk-container-id-1 div.sk-label:hover label.sk-toggleable__label {background-color: #d4ebff;}#sk-container-id-1 div.sk-serial::before {content: \"\";position: absolute;border-left: 1px solid gray;box-sizing: border-box;top: 0;bottom: 0;left: 50%;z-index: 0;}#sk-container-id-1 div.sk-serial {display: flex;flex-direction: column;align-items: center;background-color: white;padding-right: 0.2em;padding-left: 0.2em;position: relative;}#sk-container-id-1 div.sk-item {position: relative;z-index: 1;}#sk-container-id-1 div.sk-parallel {display: flex;align-items: stretch;justify-content: center;background-color: white;position: relative;}#sk-container-id-1 div.sk-item::before, #sk-container-id-1 div.sk-parallel-item::before {content: \"\";position: absolute;border-left: 1px solid gray;box-sizing: border-box;top: 0;bottom: 0;left: 50%;z-index: -1;}#sk-container-id-1 div.sk-parallel-item {display: flex;flex-direction: column;z-index: 1;position: relative;background-color: white;}#sk-container-id-1 div.sk-parallel-item:first-child::after {align-self: flex-end;width: 50%;}#sk-container-id-1 div.sk-parallel-item:last-child::after {align-self: flex-start;width: 50%;}#sk-container-id-1 div.sk-parallel-item:only-child::after {width: 0;}#sk-container-id-1 div.sk-dashed-wrapped {border: 1px dashed gray;margin: 0 0.4em 0.5em 0.4em;box-sizing: border-box;padding-bottom: 0.4em;background-color: white;}#sk-container-id-1 div.sk-label label {font-family: monospace;font-weight: bold;display: inline-block;line-height: 1.2em;}#sk-container-id-1 div.sk-label-container {text-align: center;}#sk-container-id-1 div.sk-container {/* jupyter's `normalize.less` sets `[hidden] { display: none; }` but bootstrap.min.css set `[hidden] { display: none !important; }` so we also need the `!important` here to be able to override the default hidden behavior on the sphinx rendered scikit-learn.org. See: https://github.com/scikit-learn/scikit-learn/issues/21755 */display: inline-block !important;position: relative;}#sk-container-id-1 div.sk-text-repr-fallback {display: none;}</style><div id=\"sk-container-id-1\" class=\"sk-top-container\"><div class=\"sk-text-repr-fallback\"><pre>GridSearchCV(cv=10,\n             estimator=Pipeline(steps=[(&#x27;tfidf&#x27;, TfidfVectorizer()),\n                                       (&#x27;mnb&#x27;, MultinomialNB())]),\n             n_jobs=4, param_grid={&#x27;mnb__alpha&#x27;: [True, False]},\n             scoring=&#x27;accuracy&#x27;)</pre><b>In a Jupyter environment, please rerun this cell to show the HTML representation or trust the notebook. <br />On GitHub, the HTML representation is unable to render, please try loading this page with nbviewer.org.</b></div><div class=\"sk-container\" hidden><div class=\"sk-item sk-dashed-wrapped\"><div class=\"sk-label-container\"><div class=\"sk-label sk-toggleable\"><input class=\"sk-toggleable__control sk-hidden--visually\" id=\"sk-estimator-id-1\" type=\"checkbox\" ><label for=\"sk-estimator-id-1\" class=\"sk-toggleable__label sk-toggleable__label-arrow\">GridSearchCV</label><div class=\"sk-toggleable__content\"><pre>GridSearchCV(cv=10,\n             estimator=Pipeline(steps=[(&#x27;tfidf&#x27;, TfidfVectorizer()),\n                                       (&#x27;mnb&#x27;, MultinomialNB())]),\n             n_jobs=4, param_grid={&#x27;mnb__alpha&#x27;: [True, False]},\n             scoring=&#x27;accuracy&#x27;)</pre></div></div></div><div class=\"sk-parallel\"><div class=\"sk-parallel-item\"><div class=\"sk-item\"><div class=\"sk-label-container\"><div class=\"sk-label sk-toggleable\"><input class=\"sk-toggleable__control sk-hidden--visually\" id=\"sk-estimator-id-2\" type=\"checkbox\" ><label for=\"sk-estimator-id-2\" class=\"sk-toggleable__label sk-toggleable__label-arrow\">estimator: Pipeline</label><div class=\"sk-toggleable__content\"><pre>Pipeline(steps=[(&#x27;tfidf&#x27;, TfidfVectorizer()), (&#x27;mnb&#x27;, MultinomialNB())])</pre></div></div></div><div class=\"sk-serial\"><div class=\"sk-item\"><div class=\"sk-serial\"><div class=\"sk-item\"><div class=\"sk-estimator sk-toggleable\"><input class=\"sk-toggleable__control sk-hidden--visually\" id=\"sk-estimator-id-3\" type=\"checkbox\" ><label for=\"sk-estimator-id-3\" class=\"sk-toggleable__label sk-toggleable__label-arrow\">TfidfVectorizer</label><div class=\"sk-toggleable__content\"><pre>TfidfVectorizer()</pre></div></div></div><div class=\"sk-item\"><div class=\"sk-estimator sk-toggleable\"><input class=\"sk-toggleable__control sk-hidden--visually\" id=\"sk-estimator-id-4\" type=\"checkbox\" ><label for=\"sk-estimator-id-4\" class=\"sk-toggleable__label sk-toggleable__label-arrow\">MultinomialNB</label><div class=\"sk-toggleable__content\"><pre>MultinomialNB()</pre></div></div></div></div></div></div></div></div></div></div></div></div>"
     },
     "execution_count": 8,
     "metadata": {},
     "output_type": "execute_result"
    }
   ],
   "source": [
    "from sklearn.naive_bayes import MultinomialNB\n",
    "from sklearn.pipeline import Pipeline\n",
    "from sklearn.model_selection import GridSearchCV\n",
    "\n",
    "mnb_tfidf_pipeline = Pipeline([\n",
    "    ('tfidf', TfidfVectorizer()),\n",
    "    ('mnb', MultinomialNB())\n",
    "])\n",
    "\n",
    "params = {\n",
    "    \"mnb__alpha\": [True, False]\n",
    "}\n",
    "\n",
    "grid_search_mnb_tfidf = GridSearchCV(\n",
    "    mnb_tfidf_pipeline,\n",
    "    param_grid=params,\n",
    "    cv=10,\n",
    "    scoring=\"accuracy\",\n",
    "    n_jobs=4\n",
    ")\n",
    "\n",
    "grid_search_mnb_tfidf.fit(X,y)"
   ],
   "metadata": {
    "collapsed": false,
    "ExecuteTime": {
     "end_time": "2024-01-04T15:25:42.842181200Z",
     "start_time": "2024-01-04T15:25:35.773081700Z"
    }
   },
   "id": "d46ed58967cef5d0"
  },
  {
   "cell_type": "code",
   "execution_count": 9,
   "outputs": [],
   "source": [
    "results = []"
   ],
   "metadata": {
    "collapsed": false,
    "ExecuteTime": {
     "end_time": "2024-01-04T15:25:45.589586100Z",
     "start_time": "2024-01-04T15:25:45.584435100Z"
    }
   },
   "id": "91d7e67d95776cc6"
  },
  {
   "cell_type": "code",
   "execution_count": 10,
   "outputs": [
    {
     "name": "stdout",
     "output_type": "stream",
     "text": [
      "Best Hyperparameters:  {'mnb__alpha': True}\n",
      "Best Accuracy:  0.5873312011371713\n"
     ]
    }
   ],
   "source": [
    "print(\"Best Hyperparameters: \", grid_search_mnb_tfidf.best_params_)\n",
    "print(\"Best Accuracy: \", grid_search_mnb_tfidf.best_score_)\n",
    "\n",
    "results.append(\n",
    "    (\n",
    "        \"mnb\",\n",
    "        grid_search_mnb_tfidf.best_params_,\n",
    "        grid_search_mnb_tfidf.best_score_\n",
    "    )\n",
    ")"
   ],
   "metadata": {
    "collapsed": false,
    "ExecuteTime": {
     "end_time": "2024-01-04T15:25:46.396523800Z",
     "start_time": "2024-01-04T15:25:46.391414100Z"
    }
   },
   "id": "336f17d762fffcbb"
  },
  {
   "cell_type": "markdown",
   "source": [
    "# 3. Random Forest Classifier"
   ],
   "metadata": {
    "collapsed": false
   },
   "id": "70c8be806db823be"
  },
  {
   "cell_type": "code",
   "execution_count": 4,
   "outputs": [
    {
     "ename": "NameError",
     "evalue": "name 'Pipeline' is not defined",
     "output_type": "error",
     "traceback": [
      "\u001B[1;31m---------------------------------------------------------------------------\u001B[0m",
      "\u001B[1;31mNameError\u001B[0m                                 Traceback (most recent call last)",
      "Cell \u001B[1;32mIn[4], line 3\u001B[0m\n\u001B[0;32m      1\u001B[0m \u001B[38;5;28;01mfrom\u001B[39;00m \u001B[38;5;21;01msklearn\u001B[39;00m\u001B[38;5;21;01m.\u001B[39;00m\u001B[38;5;21;01mensemble\u001B[39;00m \u001B[38;5;28;01mimport\u001B[39;00m RandomForestClassifier, GradientBoostingClassifier\n\u001B[1;32m----> 3\u001B[0m rf_tfidf_pipeline \u001B[38;5;241m=\u001B[39m \u001B[43mPipeline\u001B[49m([\n\u001B[0;32m      4\u001B[0m     (\u001B[38;5;124m'\u001B[39m\u001B[38;5;124mtfidf\u001B[39m\u001B[38;5;124m'\u001B[39m, TfidfVectorizer()),\n\u001B[0;32m      5\u001B[0m     (\u001B[38;5;124m'\u001B[39m\u001B[38;5;124mrf\u001B[39m\u001B[38;5;124m'\u001B[39m, RandomForestClassifier(random_state\u001B[38;5;241m=\u001B[39m\u001B[38;5;241m42\u001B[39m))\n\u001B[0;32m      6\u001B[0m ])\n\u001B[0;32m      8\u001B[0m params \u001B[38;5;241m=\u001B[39m {\n\u001B[0;32m      9\u001B[0m     \u001B[38;5;124m\"\u001B[39m\u001B[38;5;124mrf__n_estimators\u001B[39m\u001B[38;5;124m\"\u001B[39m: \u001B[38;5;28mrange\u001B[39m(\u001B[38;5;241m1\u001B[39m,\u001B[38;5;241m30\u001B[39m,\u001B[38;5;241m5\u001B[39m),\n\u001B[0;32m     10\u001B[0m     \u001B[38;5;124m\"\u001B[39m\u001B[38;5;124mrf__criterion\u001B[39m\u001B[38;5;124m\"\u001B[39m: [\u001B[38;5;124m\"\u001B[39m\u001B[38;5;124mgini\u001B[39m\u001B[38;5;124m\"\u001B[39m, \u001B[38;5;124m\"\u001B[39m\u001B[38;5;124mentropy\u001B[39m\u001B[38;5;124m\"\u001B[39m]\n\u001B[0;32m     11\u001B[0m }\n\u001B[0;32m     13\u001B[0m grid_search_rf_tfidf \u001B[38;5;241m=\u001B[39m GridSearchCV(\n\u001B[0;32m     14\u001B[0m     rf_tfidf_pipeline,\n\u001B[0;32m     15\u001B[0m     param_grid\u001B[38;5;241m=\u001B[39mparams,\n\u001B[1;32m   (...)\u001B[0m\n\u001B[0;32m     18\u001B[0m     n_jobs\u001B[38;5;241m=\u001B[39m\u001B[38;5;241m-\u001B[39m\u001B[38;5;241m1\u001B[39m\n\u001B[0;32m     19\u001B[0m )\n",
      "\u001B[1;31mNameError\u001B[0m: name 'Pipeline' is not defined"
     ]
    }
   ],
   "source": [
    "from sklearn.ensemble import RandomForestClassifier, GradientBoostingClassifier\n",
    "\n",
    "rf_tfidf_pipeline = Pipeline([\n",
    "    ('tfidf', TfidfVectorizer()),\n",
    "    ('rf', RandomForestClassifier(random_state=42))\n",
    "])\n",
    "\n",
    "params = {\n",
    "    \"rf__n_estimators\": range(1,30,5),\n",
    "    \"rf__criterion\": [\"gini\", \"entropy\"]\n",
    "}\n",
    "\n",
    "grid_search_rf_tfidf = GridSearchCV(\n",
    "    rf_tfidf_pipeline,\n",
    "    param_grid=params,\n",
    "    cv=10,\n",
    "    scoring=\"accuracy\",\n",
    "    n_jobs=-1\n",
    ")\n",
    "\n",
    "grid_search_rf_tfidf.fit(X, y)"
   ],
   "metadata": {
    "collapsed": false,
    "ExecuteTime": {
     "end_time": "2024-01-04T15:24:38.038575200Z",
     "start_time": "2024-01-04T15:24:37.046818300Z"
    }
   },
   "id": "fbdd305fb0cb6134"
  },
  {
   "cell_type": "code",
   "execution_count": null,
   "outputs": [],
   "source": [
    "print(\"Best Hyperparameters: \", grid_search_rf_tfidf.best_params_)\n",
    "print(\"Best Accuracy: \", grid_search_rf_tfidf.best_score_)\n",
    "\n",
    "results.append(\n",
    "    (\n",
    "        \"rf\",\n",
    "        grid_search_rf_tfidf.best_params_,\n",
    "        grid_search_rf_tfidf.best_score_\n",
    "    )\n",
    ")"
   ],
   "metadata": {
    "collapsed": false,
    "is_executing": true
   },
   "id": "30ff0c6751a1d642"
  },
  {
   "cell_type": "markdown",
   "source": [
    "# 4. Gradient Boosting Classifier"
   ],
   "metadata": {
    "collapsed": false
   },
   "id": "74a9726301e01bf7"
  },
  {
   "cell_type": "code",
   "execution_count": null,
   "outputs": [],
   "source": [
    "gb_tfidf_pipeline = Pipeline([\n",
    "    ('tfidf', TfidfVectorizer()),\n",
    "    ('gb', GradientBoostingClassifier(random_state=0))\n",
    "])\n",
    "\n",
    "params = {\n",
    "    \"gb__n_estimators\": range(1,30,5),\n",
    "    \"gb__criterion\": [\"friedman_mse\", \"squared_error\"]\n",
    "}\n",
    "\n",
    "grid_search_gb_tfidf = GridSearchCV(\n",
    "    gb_tfidf_pipeline,\n",
    "    param_grid=params,\n",
    "    cv=10,\n",
    "    scoring=\"accuracy\",\n",
    "    n_jobs=-1\n",
    ")\n",
    "\n",
    "grid_search_gb_tfidf.fit(X, y)"
   ],
   "metadata": {
    "collapsed": false,
    "is_executing": true
   },
   "id": "24827dd3254f3615"
  },
  {
   "cell_type": "code",
   "execution_count": null,
   "outputs": [],
   "source": [
    "print(\"Best Hyperparameters: \", grid_search_gb_tfidf.best_params_)\n",
    "print(\"Best Accuracy: \", grid_search_gb_tfidf.best_score_)\n",
    "\n",
    "results.append(\n",
    "    (\n",
    "        \"gb\",\n",
    "        grid_search_gb_tfidf.best_params_,\n",
    "        grid_search_gb_tfidf.best_score_\n",
    "    )\n",
    ")"
   ],
   "metadata": {
    "collapsed": false,
    "is_executing": true
   },
   "id": "d9fcc22f264ae3e2"
  },
  {
   "cell_type": "markdown",
   "source": [
    "# 5. KNN"
   ],
   "metadata": {
    "collapsed": false
   },
   "id": "23412bc141590a2c"
  },
  {
   "cell_type": "code",
   "execution_count": null,
   "outputs": [],
   "source": [
    "from sklearn.neighbors import KNeighborsClassifier\n",
    "\n",
    "knn_tfidf_pipeline = Pipeline([\n",
    "    ('tfidf', TfidfVectorizer()),\n",
    "    ('knn', KNeighborsClassifier())\n",
    "])\n",
    "\n",
    "params = {\n",
    "    \"knn__n_neighbors\": range(1,30,5),\n",
    "    \"knn__weights\": [\"uniform\", \"distance\"],\n",
    "    \"knn__algorithm\": [\"auto\", \"ball_tree\", \"kd_tree\", \"brute\"]\n",
    "}\n",
    "\n",
    "grid_search_knn_tfidf = GridSearchCV(\n",
    "    knn_tfidf_pipeline,\n",
    "    param_grid=params,\n",
    "    cv=10,\n",
    "    scoring=\"accuracy\",\n",
    "    n_jobs=-1\n",
    ")\n",
    "\n",
    "grid_search_knn_tfidf.fit(X, y)"
   ],
   "metadata": {
    "collapsed": false,
    "is_executing": true
   },
   "id": "a347e161bb2dc91d"
  },
  {
   "cell_type": "code",
   "execution_count": null,
   "outputs": [],
   "source": [
    "print(\"Best Hyperparameters: \", grid_search_knn_tfidf.best_params_)\n",
    "print(\"Best Accuracy: \", grid_search_knn_tfidf.best_score_)\n",
    "\n",
    "results.append(\n",
    "    (\n",
    "        \"knn\",\n",
    "        grid_search_knn_tfidf.best_params_,\n",
    "        grid_search_knn_tfidf.best_score_\n",
    "    )\n",
    ")"
   ],
   "metadata": {
    "collapsed": false,
    "is_executing": true
   },
   "id": "aa60b0dbfe3ea29f"
  },
  {
   "cell_type": "markdown",
   "source": [
    "# 6. Decision Tree Classifier"
   ],
   "metadata": {
    "collapsed": false
   },
   "id": "1757f1bb41bacfc3"
  },
  {
   "cell_type": "code",
   "execution_count": null,
   "outputs": [],
   "source": [
    "from sklearn.tree import DecisionTreeClassifier\n",
    "\n",
    "dt_tfidf_pipeline = Pipeline([\n",
    "    ('tfidf', TfidfVectorizer()),\n",
    "    ('dt', DecisionTreeClassifier(random_state=42))\n",
    "])\n",
    "\n",
    "params = {\n",
    "    \"dt__criterion\": [\"gini\", \"entropy\"],\n",
    "    \"dt__splitter\": [\"best\", \"random\"]\n",
    "}\n",
    "\n",
    "grid_search_dt_tfidf = GridSearchCV(\n",
    "    dt_tfidf_pipeline,\n",
    "    param_grid=params,\n",
    "    cv=10,\n",
    "    scoring=\"accuracy\",\n",
    "    n_jobs=-1\n",
    ")\n",
    "\n",
    "grid_search_dt_tfidf.fit(X, y)"
   ],
   "metadata": {
    "collapsed": false,
    "is_executing": true
   },
   "id": "633e1eb6a516ac9"
  },
  {
   "cell_type": "code",
   "execution_count": null,
   "outputs": [],
   "source": [
    "print(\"Best Hyperparameters: \", grid_search_dt_tfidf.best_params_)\n",
    "print(\"Best Accuracy: \", grid_search_dt_tfidf.best_score_)\n",
    "\n",
    "results.append(\n",
    "    (\n",
    "        \"dt\",\n",
    "        grid_search_dt_tfidf.best_params_,\n",
    "        grid_search_dt_tfidf.best_score_\n",
    "    )\n",
    ")"
   ],
   "metadata": {
    "collapsed": false,
    "is_executing": true
   },
   "id": "71c4923c667a20df"
  },
  {
   "cell_type": "markdown",
   "source": [
    "# 7. Logistic Regression Classifier"
   ],
   "metadata": {
    "collapsed": false
   },
   "id": "8e81461d169dde86"
  },
  {
   "cell_type": "code",
   "execution_count": null,
   "outputs": [],
   "source": [
    "from sklearn.linear_model import LogisticRegression\n",
    "\n",
    "lr_tfidf_pipeline = Pipeline([\n",
    "    ('tfidf', TfidfVectorizer()),\n",
    "    ('lr', LogisticRegression(random_state=42)) \n",
    "])\n",
    "\n",
    "params = {\n",
    "    \"lr__penalty\": [\"l1\", \"l2\", \"elasticnet\", None],\n",
    "    \"lr__dual\": [True, False],\n",
    "    \"lr__C\": range(1, 30, 5)\n",
    "}\n",
    "\n",
    "grid_search_lr_tfidf = GridSearchCV(\n",
    "    lr_tfidf_pipeline,\n",
    "    param_grid=params,\n",
    "    cv=10,\n",
    "    scoring=\"accuracy\",\n",
    "    n_jobs=-1\n",
    ")\n",
    "\n",
    "grid_search_lr_tfidf.fit(X, y)"
   ],
   "metadata": {
    "collapsed": false,
    "is_executing": true,
    "ExecuteTime": {
     "start_time": "2024-01-04T15:26:01.546204200Z"
    }
   },
   "id": "3abca554536816db"
  },
  {
   "cell_type": "code",
   "execution_count": null,
   "outputs": [],
   "source": [
    "print(\"Best Hyperparameters: \", grid_search_lr_tfidf.best_params_)\n",
    "print(\"Best Accuracy: \", grid_search_lr_tfidf.best_score_)\n",
    "\n",
    "results.append(\n",
    "    (\n",
    "        \"lr\",\n",
    "        grid_search_lr_tfidf.best_params_,\n",
    "        grid_search_lr_tfidf.best_score_\n",
    "    )\n",
    ")"
   ],
   "metadata": {
    "collapsed": false,
    "is_executing": true
   },
   "id": "8362a32b401f3dda"
  },
  {
   "cell_type": "code",
   "execution_count": null,
   "outputs": [],
   "source": [
    "results"
   ],
   "metadata": {
    "collapsed": false,
    "is_executing": true
   },
   "id": "ecbd7488ca14d864"
  },
  {
   "cell_type": "code",
   "execution_count": null,
   "outputs": [],
   "source": [],
   "metadata": {
    "collapsed": false
   },
   "id": "35f6e7667299d87d"
  }
 ],
 "metadata": {
  "kernelspec": {
   "display_name": "Python 3",
   "language": "python",
   "name": "python3"
  },
  "language_info": {
   "codemirror_mode": {
    "name": "ipython",
    "version": 2
   },
   "file_extension": ".py",
   "mimetype": "text/x-python",
   "name": "python",
   "nbconvert_exporter": "python",
   "pygments_lexer": "ipython2",
   "version": "2.7.6"
  }
 },
 "nbformat": 4,
 "nbformat_minor": 5
}
