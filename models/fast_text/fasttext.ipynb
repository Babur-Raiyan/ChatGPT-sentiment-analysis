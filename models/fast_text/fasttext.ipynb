{
 "cells": [
  {
   "cell_type": "code",
   "execution_count": 15,
   "id": "initial_id",
   "metadata": {
    "collapsed": true,
    "ExecuteTime": {
     "end_time": "2023-12-28T17:04:22.303332900Z",
     "start_time": "2023-12-28T17:04:22.288794200Z"
    }
   },
   "outputs": [],
   "source": [
    "import fasttext\n",
    "import pandas as pd"
   ]
  },
  {
   "cell_type": "code",
   "execution_count": 16,
   "outputs": [
    {
     "name": "stdout",
     "output_type": "stream",
     "text": [
      "(60000, 2)\n"
     ]
    },
    {
     "data": {
      "text/plain": "   num_labels                                   processed_tweets\n0           1      alright ChatGPT AI pretty neat @nocontextvarg\n1           1  ok definitely go replace soon importantly chat...\n2           0  ask chatgpt explain 4 famous chess quote Timma...\n3           1                               chatgpt popular good\n4           0  write ida plugin query chatgpt explain decompi...",
      "text/html": "<div>\n<style scoped>\n    .dataframe tbody tr th:only-of-type {\n        vertical-align: middle;\n    }\n\n    .dataframe tbody tr th {\n        vertical-align: top;\n    }\n\n    .dataframe thead th {\n        text-align: right;\n    }\n</style>\n<table border=\"1\" class=\"dataframe\">\n  <thead>\n    <tr style=\"text-align: right;\">\n      <th></th>\n      <th>num_labels</th>\n      <th>processed_tweets</th>\n    </tr>\n  </thead>\n  <tbody>\n    <tr>\n      <th>0</th>\n      <td>1</td>\n      <td>alright ChatGPT AI pretty neat @nocontextvarg</td>\n    </tr>\n    <tr>\n      <th>1</th>\n      <td>1</td>\n      <td>ok definitely go replace soon importantly chat...</td>\n    </tr>\n    <tr>\n      <th>2</th>\n      <td>0</td>\n      <td>ask chatgpt explain 4 famous chess quote Timma...</td>\n    </tr>\n    <tr>\n      <th>3</th>\n      <td>1</td>\n      <td>chatgpt popular good</td>\n    </tr>\n    <tr>\n      <th>4</th>\n      <td>0</td>\n      <td>write ida plugin query chatgpt explain decompi...</td>\n    </tr>\n  </tbody>\n</table>\n</div>"
     },
     "execution_count": 16,
     "metadata": {},
     "output_type": "execute_result"
    }
   ],
   "source": [
    "df = pd.read_csv(r\"C:\\Python Codes\\Code\\Code\\ChatGPT-sentiment-analysis\\processed_file.csv\")\n",
    "\n",
    "print(df.shape)\n",
    "df.head()"
   ],
   "metadata": {
    "collapsed": false,
    "ExecuteTime": {
     "end_time": "2023-12-28T17:04:22.424878500Z",
     "start_time": "2023-12-28T17:04:22.293804600Z"
    }
   },
   "id": "6c155dc4cbaffeb4"
  },
  {
   "cell_type": "code",
   "execution_count": 17,
   "outputs": [
    {
     "data": {
      "text/plain": "num_labels\n1    20000\n0    20000\n2    20000\nName: count, dtype: int64"
     },
     "execution_count": 17,
     "metadata": {},
     "output_type": "execute_result"
    }
   ],
   "source": [
    "df.num_labels.value_counts()"
   ],
   "metadata": {
    "collapsed": false,
    "ExecuteTime": {
     "end_time": "2023-12-28T17:04:22.432407200Z",
     "start_time": "2023-12-28T17:04:22.421610400Z"
    }
   },
   "id": "f11fc1af526208e4"
  },
  {
   "cell_type": "code",
   "execution_count": 18,
   "outputs": [
    {
     "data": {
      "text/plain": "num_labels          0\nprocessed_tweets    8\ndtype: int64"
     },
     "execution_count": 18,
     "metadata": {},
     "output_type": "execute_result"
    }
   ],
   "source": [
    "df.isna().sum()"
   ],
   "metadata": {
    "collapsed": false,
    "ExecuteTime": {
     "end_time": "2023-12-28T17:04:22.460913Z",
     "start_time": "2023-12-28T17:04:22.428406300Z"
    }
   },
   "id": "9004de7ca54cc3dd"
  },
  {
   "cell_type": "code",
   "execution_count": 19,
   "outputs": [],
   "source": [
    "df = df.dropna()"
   ],
   "metadata": {
    "collapsed": false,
    "ExecuteTime": {
     "end_time": "2023-12-28T17:04:22.489380700Z",
     "start_time": "2023-12-28T17:04:22.441761900Z"
    }
   },
   "id": "e60923cc3f23e123"
  },
  {
   "cell_type": "code",
   "execution_count": 20,
   "outputs": [
    {
     "data": {
      "text/plain": "num_labels\n__label__0    20000\n__label__1    19999\n__label__2    19993\nName: count, dtype: int64"
     },
     "execution_count": 20,
     "metadata": {},
     "output_type": "execute_result"
    }
   ],
   "source": [
    "df.num_labels = df.num_labels.apply(lambda x: f\"__label__{x}\")\n",
    "df.num_labels.value_counts()"
   ],
   "metadata": {
    "collapsed": false,
    "ExecuteTime": {
     "end_time": "2023-12-28T17:04:22.564584300Z",
     "start_time": "2023-12-28T17:04:22.454999200Z"
    }
   },
   "id": "f73ab2591198e4ff"
  },
  {
   "cell_type": "code",
   "execution_count": 21,
   "outputs": [
    {
     "data": {
      "text/plain": "   num_labels                                   processed_tweets  \\\n0  __label__1      alright ChatGPT AI pretty neat @nocontextvarg   \n1  __label__1  ok definitely go replace soon importantly chat...   \n2  __label__0  ask chatgpt explain 4 famous chess quote Timma...   \n3  __label__1                               chatgpt popular good   \n4  __label__0  write ida plugin query chatgpt explain decompi...   \n\n                                processed_tweets_fst  \n0  __label__1 alright ChatGPT AI pretty neat @noc...  \n1  __label__1 ok definitely go replace soon impor...  \n2  __label__0 ask chatgpt explain 4 famous chess ...  \n3                    __label__1 chatgpt popular good  \n4  __label__0 write ida plugin query chatgpt expl...  ",
      "text/html": "<div>\n<style scoped>\n    .dataframe tbody tr th:only-of-type {\n        vertical-align: middle;\n    }\n\n    .dataframe tbody tr th {\n        vertical-align: top;\n    }\n\n    .dataframe thead th {\n        text-align: right;\n    }\n</style>\n<table border=\"1\" class=\"dataframe\">\n  <thead>\n    <tr style=\"text-align: right;\">\n      <th></th>\n      <th>num_labels</th>\n      <th>processed_tweets</th>\n      <th>processed_tweets_fst</th>\n    </tr>\n  </thead>\n  <tbody>\n    <tr>\n      <th>0</th>\n      <td>__label__1</td>\n      <td>alright ChatGPT AI pretty neat @nocontextvarg</td>\n      <td>__label__1 alright ChatGPT AI pretty neat @noc...</td>\n    </tr>\n    <tr>\n      <th>1</th>\n      <td>__label__1</td>\n      <td>ok definitely go replace soon importantly chat...</td>\n      <td>__label__1 ok definitely go replace soon impor...</td>\n    </tr>\n    <tr>\n      <th>2</th>\n      <td>__label__0</td>\n      <td>ask chatgpt explain 4 famous chess quote Timma...</td>\n      <td>__label__0 ask chatgpt explain 4 famous chess ...</td>\n    </tr>\n    <tr>\n      <th>3</th>\n      <td>__label__1</td>\n      <td>chatgpt popular good</td>\n      <td>__label__1 chatgpt popular good</td>\n    </tr>\n    <tr>\n      <th>4</th>\n      <td>__label__0</td>\n      <td>write ida plugin query chatgpt explain decompi...</td>\n      <td>__label__0 write ida plugin query chatgpt expl...</td>\n    </tr>\n  </tbody>\n</table>\n</div>"
     },
     "execution_count": 21,
     "metadata": {},
     "output_type": "execute_result"
    }
   ],
   "source": [
    "df['processed_tweets_fst'] = df['num_labels'] + \" \" + df['processed_tweets']\n",
    "df.head()"
   ],
   "metadata": {
    "collapsed": false,
    "ExecuteTime": {
     "end_time": "2023-12-28T17:04:22.566088300Z",
     "start_time": "2023-12-28T17:04:22.489380700Z"
    }
   },
   "id": "5d467dfe9a3809a1"
  },
  {
   "cell_type": "code",
   "execution_count": 22,
   "outputs": [],
   "source": [
    "from sklearn.model_selection import train_test_split\n",
    "\n",
    "train_df, test_df = train_test_split(\n",
    "    df,\n",
    "    test_size=0.2,\n",
    "    random_state=42,\n",
    "    stratify=df.num_labels\n",
    ")"
   ],
   "metadata": {
    "collapsed": false,
    "ExecuteTime": {
     "end_time": "2023-12-28T17:04:22.637928600Z",
     "start_time": "2023-12-28T17:04:22.577314600Z"
    }
   },
   "id": "72f8477d590c1cfa"
  },
  {
   "cell_type": "code",
   "execution_count": 23,
   "outputs": [
    {
     "data": {
      "text/plain": "       num_labels                                   processed_tweets  \\\n39689  __label__1  chatgpt document code JSDoc useful commentary ...   \n48915  __label__2       New Chat Bot Code Red Google Search Business   \n15990  __label__2                               hey @mattkratter see   \n50581  __label__1           chatgpt @fishnets88 recruiter rescue 😁 👇   \n25990  __label__1  try @chatgpt amazing ai power chatbot perfect ...   \n\n                                    processed_tweets_fst  \n39689  __label__1 chatgpt document code JSDoc useful ...  \n48915  __label__2 New Chat Bot Code Red Google Search...  \n15990                    __label__2 hey @mattkratter see  \n50581  __label__1 chatgpt @fishnets88 recruiter rescu...  \n25990  __label__1 try @chatgpt amazing ai power chatb...  ",
      "text/html": "<div>\n<style scoped>\n    .dataframe tbody tr th:only-of-type {\n        vertical-align: middle;\n    }\n\n    .dataframe tbody tr th {\n        vertical-align: top;\n    }\n\n    .dataframe thead th {\n        text-align: right;\n    }\n</style>\n<table border=\"1\" class=\"dataframe\">\n  <thead>\n    <tr style=\"text-align: right;\">\n      <th></th>\n      <th>num_labels</th>\n      <th>processed_tweets</th>\n      <th>processed_tweets_fst</th>\n    </tr>\n  </thead>\n  <tbody>\n    <tr>\n      <th>39689</th>\n      <td>__label__1</td>\n      <td>chatgpt document code JSDoc useful commentary ...</td>\n      <td>__label__1 chatgpt document code JSDoc useful ...</td>\n    </tr>\n    <tr>\n      <th>48915</th>\n      <td>__label__2</td>\n      <td>New Chat Bot Code Red Google Search Business</td>\n      <td>__label__2 New Chat Bot Code Red Google Search...</td>\n    </tr>\n    <tr>\n      <th>15990</th>\n      <td>__label__2</td>\n      <td>hey @mattkratter see</td>\n      <td>__label__2 hey @mattkratter see</td>\n    </tr>\n    <tr>\n      <th>50581</th>\n      <td>__label__1</td>\n      <td>chatgpt @fishnets88 recruiter rescue 😁 👇</td>\n      <td>__label__1 chatgpt @fishnets88 recruiter rescu...</td>\n    </tr>\n    <tr>\n      <th>25990</th>\n      <td>__label__1</td>\n      <td>try @chatgpt amazing ai power chatbot perfect ...</td>\n      <td>__label__1 try @chatgpt amazing ai power chatb...</td>\n    </tr>\n  </tbody>\n</table>\n</div>"
     },
     "execution_count": 23,
     "metadata": {},
     "output_type": "execute_result"
    }
   ],
   "source": [
    "train_df.head()"
   ],
   "metadata": {
    "collapsed": false,
    "ExecuteTime": {
     "end_time": "2023-12-28T17:04:22.664572700Z",
     "start_time": "2023-12-28T17:04:22.614446400Z"
    }
   },
   "id": "630d251208d15c60"
  },
  {
   "cell_type": "code",
   "execution_count": 24,
   "outputs": [],
   "source": [
    "train_df.to_csv(\n",
    "    \"tweets.train\",\n",
    "    columns=['processed_tweets_fst'],\n",
    "    index=False,\n",
    "    header=False\n",
    ")\n",
    "\n",
    "\n",
    "test_df.to_csv(\n",
    "    \"tweets.test\",\n",
    "    columns=['processed_tweets_fst'],\n",
    "    index=False,\n",
    "    header=False\n",
    ")"
   ],
   "metadata": {
    "collapsed": false,
    "ExecuteTime": {
     "end_time": "2023-12-28T17:04:22.833029600Z",
     "start_time": "2023-12-28T17:04:22.625469900Z"
    }
   },
   "id": "b56d5ae5ed07b952"
  },
  {
   "cell_type": "code",
   "execution_count": 25,
   "outputs": [],
   "source": [
    "model = fasttext.train_supervised(input='tweets.train')"
   ],
   "metadata": {
    "collapsed": false,
    "ExecuteTime": {
     "end_time": "2023-12-28T17:04:23.516322500Z",
     "start_time": "2023-12-28T17:04:22.835028600Z"
    }
   },
   "id": "7ef4c580ab75ae4c"
  },
  {
   "cell_type": "code",
   "execution_count": 26,
   "outputs": [
    {
     "data": {
      "text/plain": "(11960, 0.8258361204013378, 0.8258361204013378)"
     },
     "execution_count": 26,
     "metadata": {},
     "output_type": "execute_result"
    }
   ],
   "source": [
    "model.test('tweets.test')"
   ],
   "metadata": {
    "collapsed": false,
    "ExecuteTime": {
     "end_time": "2023-12-28T17:04:23.584830200Z",
     "start_time": "2023-12-28T17:04:23.517828300Z"
    }
   },
   "id": "cfd3beb3523aa58a"
  }
 ],
 "metadata": {
  "kernelspec": {
   "display_name": "Python 3",
   "language": "python",
   "name": "python3"
  },
  "language_info": {
   "codemirror_mode": {
    "name": "ipython",
    "version": 2
   },
   "file_extension": ".py",
   "mimetype": "text/x-python",
   "name": "python",
   "nbconvert_exporter": "python",
   "pygments_lexer": "ipython2",
   "version": "2.7.6"
  }
 },
 "nbformat": 4,
 "nbformat_minor": 5
}
