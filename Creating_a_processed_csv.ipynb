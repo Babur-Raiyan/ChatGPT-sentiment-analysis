{
 "cells": [
  {
   "cell_type": "markdown",
   "source": [
    "# Loading Dataset"
   ],
   "metadata": {
    "collapsed": false
   },
   "id": "90c66e62d75dcd7c"
  },
  {
   "cell_type": "code",
   "execution_count": 1,
   "id": "initial_id",
   "metadata": {
    "collapsed": true,
    "ExecuteTime": {
     "end_time": "2023-12-28T15:54:24.600351600Z",
     "start_time": "2023-12-28T15:54:23.995552600Z"
    }
   },
   "outputs": [],
   "source": [
    "import pandas as pd"
   ]
  },
  {
   "cell_type": "code",
   "outputs": [
    {
     "data": {
      "text/plain": "   Unnamed: 0                                             tweets   labels\n0           0  ChatGPT: Optimizing Language Models for Dialog...  neutral\n1           1  Try talking with ChatGPT, our new AI system wh...     good\n2           2  ChatGPT: Optimizing Language Models for Dialog...  neutral\n3           3  THRILLED to share that ChatGPT, our new model ...     good\n4           4  As of 2 minutes ago, @OpenAI released their ne...      bad",
      "text/html": "<div>\n<style scoped>\n    .dataframe tbody tr th:only-of-type {\n        vertical-align: middle;\n    }\n\n    .dataframe tbody tr th {\n        vertical-align: top;\n    }\n\n    .dataframe thead th {\n        text-align: right;\n    }\n</style>\n<table border=\"1\" class=\"dataframe\">\n  <thead>\n    <tr style=\"text-align: right;\">\n      <th></th>\n      <th>Unnamed: 0</th>\n      <th>tweets</th>\n      <th>labels</th>\n    </tr>\n  </thead>\n  <tbody>\n    <tr>\n      <th>0</th>\n      <td>0</td>\n      <td>ChatGPT: Optimizing Language Models for Dialog...</td>\n      <td>neutral</td>\n    </tr>\n    <tr>\n      <th>1</th>\n      <td>1</td>\n      <td>Try talking with ChatGPT, our new AI system wh...</td>\n      <td>good</td>\n    </tr>\n    <tr>\n      <th>2</th>\n      <td>2</td>\n      <td>ChatGPT: Optimizing Language Models for Dialog...</td>\n      <td>neutral</td>\n    </tr>\n    <tr>\n      <th>3</th>\n      <td>3</td>\n      <td>THRILLED to share that ChatGPT, our new model ...</td>\n      <td>good</td>\n    </tr>\n    <tr>\n      <th>4</th>\n      <td>4</td>\n      <td>As of 2 minutes ago, @OpenAI released their ne...</td>\n      <td>bad</td>\n    </tr>\n  </tbody>\n</table>\n</div>"
     },
     "execution_count": 2,
     "metadata": {},
     "output_type": "execute_result"
    }
   ],
   "source": [
    "df = pd.read_csv(\"./dataset_folder/archive/file.csv\")\n",
    "df.head()"
   ],
   "metadata": {
    "collapsed": false,
    "ExecuteTime": {
     "end_time": "2023-12-28T15:54:25.410545900Z",
     "start_time": "2023-12-28T15:54:24.602354Z"
    }
   },
   "id": "7784ee11ab3e1477",
   "execution_count": 2
  },
  {
   "cell_type": "markdown",
   "source": [
    "## Drop Unnecessary columns"
   ],
   "metadata": {
    "collapsed": false
   },
   "id": "333d72cab812a870"
  },
  {
   "cell_type": "code",
   "outputs": [
    {
     "data": {
      "text/plain": "                                              tweets   labels\n0  ChatGPT: Optimizing Language Models for Dialog...  neutral\n1  Try talking with ChatGPT, our new AI system wh...     good\n2  ChatGPT: Optimizing Language Models for Dialog...  neutral\n3  THRILLED to share that ChatGPT, our new model ...     good\n4  As of 2 minutes ago, @OpenAI released their ne...      bad",
      "text/html": "<div>\n<style scoped>\n    .dataframe tbody tr th:only-of-type {\n        vertical-align: middle;\n    }\n\n    .dataframe tbody tr th {\n        vertical-align: top;\n    }\n\n    .dataframe thead th {\n        text-align: right;\n    }\n</style>\n<table border=\"1\" class=\"dataframe\">\n  <thead>\n    <tr style=\"text-align: right;\">\n      <th></th>\n      <th>tweets</th>\n      <th>labels</th>\n    </tr>\n  </thead>\n  <tbody>\n    <tr>\n      <th>0</th>\n      <td>ChatGPT: Optimizing Language Models for Dialog...</td>\n      <td>neutral</td>\n    </tr>\n    <tr>\n      <th>1</th>\n      <td>Try talking with ChatGPT, our new AI system wh...</td>\n      <td>good</td>\n    </tr>\n    <tr>\n      <th>2</th>\n      <td>ChatGPT: Optimizing Language Models for Dialog...</td>\n      <td>neutral</td>\n    </tr>\n    <tr>\n      <th>3</th>\n      <td>THRILLED to share that ChatGPT, our new model ...</td>\n      <td>good</td>\n    </tr>\n    <tr>\n      <th>4</th>\n      <td>As of 2 minutes ago, @OpenAI released their ne...</td>\n      <td>bad</td>\n    </tr>\n  </tbody>\n</table>\n</div>"
     },
     "execution_count": 3,
     "metadata": {},
     "output_type": "execute_result"
    }
   ],
   "source": [
    "df = df.drop(columns=['Unnamed: 0'])\n",
    "df.head()"
   ],
   "metadata": {
    "collapsed": false,
    "ExecuteTime": {
     "end_time": "2023-12-28T15:54:25.424836200Z",
     "start_time": "2023-12-28T15:54:25.404481900Z"
    }
   },
   "id": "4d8111879022760d",
   "execution_count": 3
  },
  {
   "cell_type": "markdown",
   "source": [
    "## Data-wrangling\n",
    "- Clearing __null value__ records\n",
    "- Deleting __duplicate__ records"
   ],
   "metadata": {
    "collapsed": false
   },
   "id": "c20091de5bdcc956"
  },
  {
   "cell_type": "code",
   "outputs": [
    {
     "data": {
      "text/plain": "tweets    0\nlabels    0\ndtype: int64"
     },
     "execution_count": 4,
     "metadata": {},
     "output_type": "execute_result"
    }
   ],
   "source": [
    "df.isna().sum()"
   ],
   "metadata": {
    "collapsed": false,
    "ExecuteTime": {
     "end_time": "2023-12-28T15:54:25.564252200Z",
     "start_time": "2023-12-28T15:54:25.421320600Z"
    }
   },
   "id": "86a7b1d904232edb",
   "execution_count": 4
  },
  {
   "cell_type": "code",
   "outputs": [
    {
     "data": {
      "text/plain": "1671"
     },
     "execution_count": 5,
     "metadata": {},
     "output_type": "execute_result"
    }
   ],
   "source": [
    "df.duplicated().sum()"
   ],
   "metadata": {
    "collapsed": false,
    "ExecuteTime": {
     "end_time": "2023-12-28T15:54:25.663865200Z",
     "start_time": "2023-12-28T15:54:25.455565900Z"
    }
   },
   "id": "2c992d439dd12101",
   "execution_count": 5
  },
  {
   "cell_type": "code",
   "outputs": [],
   "source": [
    "df = df.drop_duplicates()"
   ],
   "metadata": {
    "collapsed": false,
    "ExecuteTime": {
     "end_time": "2023-12-28T15:54:25.800244800Z",
     "start_time": "2023-12-28T15:54:25.637803400Z"
    }
   },
   "id": "258324cb5576fe86",
   "execution_count": 6
  },
  {
   "cell_type": "markdown",
   "source": [
    "## Creating a sub dataframe for testing purpose\n",
    "Reason: main dataframe is too large. If this sub dataframe performs great, no need for full dataframe\n",
    "- taking 5000 samples from each category\n",
    "- Creates a sample that has **15000** total tweets"
   ],
   "metadata": {
    "collapsed": false
   },
   "id": "76ac261bf1430d06"
  },
  {
   "cell_type": "markdown",
   "source": [
    "### label=good dataframe"
   ],
   "metadata": {
    "collapsed": false
   },
   "id": "cf14273db9cbeec8"
  },
  {
   "cell_type": "code",
   "outputs": [
    {
     "data": {
      "text/plain": "                                                  tweets labels\n0      #artificialintelligence #ChatGPT Amazing but F...   good\n1      Even though I know it's not the first, and pro...   good\n2      Fast Company: The internet loves ChatGPT, but ...   good\n3      RT @jameselder@tweetrex.co.uk\\nOh my God.\\n\\nI...   good\n4      I may be late to the party, but I am seriously...   good\n...                                                  ...    ...\n19995  Having fun with #ChatGPT on my AI-related prof...   good\n19996   A little late to the party but ChatGPT is great.   good\n19997  My daily experience of AI is the chatbots on w...   good\n19998  Having a great discussion with ChatGPT today a...   good\n19999  I just posted \"PaLM vs. ChatGPT: Who Will Win ...   good\n\n[20000 rows x 2 columns]",
      "text/html": "<div>\n<style scoped>\n    .dataframe tbody tr th:only-of-type {\n        vertical-align: middle;\n    }\n\n    .dataframe tbody tr th {\n        vertical-align: top;\n    }\n\n    .dataframe thead th {\n        text-align: right;\n    }\n</style>\n<table border=\"1\" class=\"dataframe\">\n  <thead>\n    <tr style=\"text-align: right;\">\n      <th></th>\n      <th>tweets</th>\n      <th>labels</th>\n    </tr>\n  </thead>\n  <tbody>\n    <tr>\n      <th>0</th>\n      <td>#artificialintelligence #ChatGPT Amazing but F...</td>\n      <td>good</td>\n    </tr>\n    <tr>\n      <th>1</th>\n      <td>Even though I know it's not the first, and pro...</td>\n      <td>good</td>\n    </tr>\n    <tr>\n      <th>2</th>\n      <td>Fast Company: The internet loves ChatGPT, but ...</td>\n      <td>good</td>\n    </tr>\n    <tr>\n      <th>3</th>\n      <td>RT @jameselder@tweetrex.co.uk\\nOh my God.\\n\\nI...</td>\n      <td>good</td>\n    </tr>\n    <tr>\n      <th>4</th>\n      <td>I may be late to the party, but I am seriously...</td>\n      <td>good</td>\n    </tr>\n    <tr>\n      <th>...</th>\n      <td>...</td>\n      <td>...</td>\n    </tr>\n    <tr>\n      <th>19995</th>\n      <td>Having fun with #ChatGPT on my AI-related prof...</td>\n      <td>good</td>\n    </tr>\n    <tr>\n      <th>19996</th>\n      <td>A little late to the party but ChatGPT is great.</td>\n      <td>good</td>\n    </tr>\n    <tr>\n      <th>19997</th>\n      <td>My daily experience of AI is the chatbots on w...</td>\n      <td>good</td>\n    </tr>\n    <tr>\n      <th>19998</th>\n      <td>Having a great discussion with ChatGPT today a...</td>\n      <td>good</td>\n    </tr>\n    <tr>\n      <th>19999</th>\n      <td>I just posted \"PaLM vs. ChatGPT: Who Will Win ...</td>\n      <td>good</td>\n    </tr>\n  </tbody>\n</table>\n<p>20000 rows × 2 columns</p>\n</div>"
     },
     "execution_count": 7,
     "metadata": {},
     "output_type": "execute_result"
    }
   ],
   "source": [
    "df_good = df[df.labels == \"good\"].sample(\n",
    "    n=20000,\n",
    "    replace=False,\n",
    "    ignore_index=True,\n",
    "    random_state=0\n",
    ")\n",
    "df_good"
   ],
   "metadata": {
    "collapsed": false,
    "ExecuteTime": {
     "end_time": "2023-12-28T15:54:25.845494Z",
     "start_time": "2023-12-28T15:54:25.800244800Z"
    }
   },
   "id": "3ad7fb39113bdf0a",
   "execution_count": 7
  },
  {
   "cell_type": "markdown",
   "source": [
    "### label=bad dataframe"
   ],
   "metadata": {
    "collapsed": false
   },
   "id": "8e946b85147c71cf"
  },
  {
   "cell_type": "code",
   "outputs": [
    {
     "data": {
      "text/plain": "                                                  tweets labels\n0      Deconstructing ChatGPT on the Future of Contin...    bad\n1                 Has anyone ported Doom to ChatGPT yet?    bad\n2      Yet #ChatGPT has given me multiple incorrect d...    bad\n3      Generative AI is progressing furiously—and edu...    bad\n4      ⚗️ChatGPT Most Extraordinary Tweets\\n#ChatGPT ...    bad\n...                                                  ...    ...\n19995  I’m going to try to get ChatGPT to write my ne...    bad\n19996  ChatGPT: Everything you need to know about cha...    bad\n19997     My feed is 80% ChatGPT. What else is going on?    bad\n19998  Article summary: https://t.co/XQPMPEVqn9 (I'm ...    bad\n19999  #ChatGPT answers to what is  Odia identity? ht...    bad\n\n[20000 rows x 2 columns]",
      "text/html": "<div>\n<style scoped>\n    .dataframe tbody tr th:only-of-type {\n        vertical-align: middle;\n    }\n\n    .dataframe tbody tr th {\n        vertical-align: top;\n    }\n\n    .dataframe thead th {\n        text-align: right;\n    }\n</style>\n<table border=\"1\" class=\"dataframe\">\n  <thead>\n    <tr style=\"text-align: right;\">\n      <th></th>\n      <th>tweets</th>\n      <th>labels</th>\n    </tr>\n  </thead>\n  <tbody>\n    <tr>\n      <th>0</th>\n      <td>Deconstructing ChatGPT on the Future of Contin...</td>\n      <td>bad</td>\n    </tr>\n    <tr>\n      <th>1</th>\n      <td>Has anyone ported Doom to ChatGPT yet?</td>\n      <td>bad</td>\n    </tr>\n    <tr>\n      <th>2</th>\n      <td>Yet #ChatGPT has given me multiple incorrect d...</td>\n      <td>bad</td>\n    </tr>\n    <tr>\n      <th>3</th>\n      <td>Generative AI is progressing furiously—and edu...</td>\n      <td>bad</td>\n    </tr>\n    <tr>\n      <th>4</th>\n      <td>⚗️ChatGPT Most Extraordinary Tweets\\n#ChatGPT ...</td>\n      <td>bad</td>\n    </tr>\n    <tr>\n      <th>...</th>\n      <td>...</td>\n      <td>...</td>\n    </tr>\n    <tr>\n      <th>19995</th>\n      <td>I’m going to try to get ChatGPT to write my ne...</td>\n      <td>bad</td>\n    </tr>\n    <tr>\n      <th>19996</th>\n      <td>ChatGPT: Everything you need to know about cha...</td>\n      <td>bad</td>\n    </tr>\n    <tr>\n      <th>19997</th>\n      <td>My feed is 80% ChatGPT. What else is going on?</td>\n      <td>bad</td>\n    </tr>\n    <tr>\n      <th>19998</th>\n      <td>Article summary: https://t.co/XQPMPEVqn9 (I'm ...</td>\n      <td>bad</td>\n    </tr>\n    <tr>\n      <th>19999</th>\n      <td>#ChatGPT answers to what is  Odia identity? ht...</td>\n      <td>bad</td>\n    </tr>\n  </tbody>\n</table>\n<p>20000 rows × 2 columns</p>\n</div>"
     },
     "execution_count": 8,
     "metadata": {},
     "output_type": "execute_result"
    }
   ],
   "source": [
    "df_bad = df[df.labels == \"bad\"].sample(\n",
    "    n=20000,\n",
    "    replace=False,\n",
    "    ignore_index=True,\n",
    "    random_state=0\n",
    ")\n",
    "df_bad"
   ],
   "metadata": {
    "collapsed": false,
    "ExecuteTime": {
     "end_time": "2023-12-28T15:54:25.875786500Z",
     "start_time": "2023-12-28T15:54:25.831963800Z"
    }
   },
   "id": "7d12fd5db837d1af",
   "execution_count": 8
  },
  {
   "cell_type": "markdown",
   "source": [
    "### label=neutral dataframe"
   ],
   "metadata": {
    "collapsed": false
   },
   "id": "bb8cff18b6841e99"
  },
  {
   "cell_type": "code",
   "outputs": [
    {
     "data": {
      "text/plain": "                                                  tweets   labels\n0      We're going to look back years from now and se...  neutral\n1      Prompt-engineered artwork via stable-diffusion...  neutral\n2      Google Introduces ChatGPT-like ChatBot for Hea...  neutral\n3      The Brilliance and Weirdness of ChatGPT\\n\\n#Op...  neutral\n4      Another interesting result from ChatGPT: https...  neutral\n...                                                  ...      ...\n19995  Thank you ChatGPT, for the ETL Tool 🤣🤣 https:/...  neutral\n19996  The Brilliance and Weirdness of ChatGPT – A ne...  neutral\n19997  ChatGPT tells DALL.E to create image. https://...  neutral\n19998  Welcome to our team Gregory Mitchell 💡\\nhttps:...  neutral\n19999  Wow\\nThis ChatGPT shit is fire to use in EO ht...  neutral\n\n[20000 rows x 2 columns]",
      "text/html": "<div>\n<style scoped>\n    .dataframe tbody tr th:only-of-type {\n        vertical-align: middle;\n    }\n\n    .dataframe tbody tr th {\n        vertical-align: top;\n    }\n\n    .dataframe thead th {\n        text-align: right;\n    }\n</style>\n<table border=\"1\" class=\"dataframe\">\n  <thead>\n    <tr style=\"text-align: right;\">\n      <th></th>\n      <th>tweets</th>\n      <th>labels</th>\n    </tr>\n  </thead>\n  <tbody>\n    <tr>\n      <th>0</th>\n      <td>We're going to look back years from now and se...</td>\n      <td>neutral</td>\n    </tr>\n    <tr>\n      <th>1</th>\n      <td>Prompt-engineered artwork via stable-diffusion...</td>\n      <td>neutral</td>\n    </tr>\n    <tr>\n      <th>2</th>\n      <td>Google Introduces ChatGPT-like ChatBot for Hea...</td>\n      <td>neutral</td>\n    </tr>\n    <tr>\n      <th>3</th>\n      <td>The Brilliance and Weirdness of ChatGPT\\n\\n#Op...</td>\n      <td>neutral</td>\n    </tr>\n    <tr>\n      <th>4</th>\n      <td>Another interesting result from ChatGPT: https...</td>\n      <td>neutral</td>\n    </tr>\n    <tr>\n      <th>...</th>\n      <td>...</td>\n      <td>...</td>\n    </tr>\n    <tr>\n      <th>19995</th>\n      <td>Thank you ChatGPT, for the ETL Tool 🤣🤣 https:/...</td>\n      <td>neutral</td>\n    </tr>\n    <tr>\n      <th>19996</th>\n      <td>The Brilliance and Weirdness of ChatGPT – A ne...</td>\n      <td>neutral</td>\n    </tr>\n    <tr>\n      <th>19997</th>\n      <td>ChatGPT tells DALL.E to create image. https://...</td>\n      <td>neutral</td>\n    </tr>\n    <tr>\n      <th>19998</th>\n      <td>Welcome to our team Gregory Mitchell 💡\\nhttps:...</td>\n      <td>neutral</td>\n    </tr>\n    <tr>\n      <th>19999</th>\n      <td>Wow\\nThis ChatGPT shit is fire to use in EO ht...</td>\n      <td>neutral</td>\n    </tr>\n  </tbody>\n</table>\n<p>20000 rows × 2 columns</p>\n</div>"
     },
     "execution_count": 9,
     "metadata": {},
     "output_type": "execute_result"
    }
   ],
   "source": [
    "df_neutral = df[df.labels == \"neutral\"].sample(\n",
    "    n=20000,\n",
    "    replace=False,\n",
    "    ignore_index=True,\n",
    "    random_state=0\n",
    ")\n",
    "df_neutral"
   ],
   "metadata": {
    "collapsed": false,
    "ExecuteTime": {
     "end_time": "2023-12-28T15:54:25.973196600Z",
     "start_time": "2023-12-28T15:54:25.866289200Z"
    }
   },
   "id": "b6262ba86b4f5ccb",
   "execution_count": 9
  },
  {
   "cell_type": "markdown",
   "source": [
    "### Concatenating the 3 (good, bad, neutral) datframes"
   ],
   "metadata": {
    "collapsed": false
   },
   "id": "ad86ad7bd2125a33"
  },
  {
   "cell_type": "code",
   "outputs": [
    {
     "data": {
      "text/plain": "                                                  tweets   labels\n0      Alright, the ChatGPT AI is pretty neat @NoCont...     good\n1      Ok I'm definitely going to be replaced soon. B...     good\n2      I asked the ChatGPT if it could explain 4 famo...  neutral\n3      ChatGPT Is Too Popular for Its Own Good https:...     good\n4      I wrote an IDA plugin that queries #ChatGPT an...  neutral\n...                                                  ...      ...\n59995  thanks chatgpt, it will be `burn20(uint256 id,...  neutral\n59996  &lt;&lt; ...Explain your error message with Ch...  neutral\n59997  Everyone is talking about #chatgpt3 and its ma...  neutral\n59998  I spent the weekend playing with ChatGPT, MidJ...  neutral\n59999  God.  @OpenAI #ChatGPT is overloaded.  Feels l...     good\n\n[60000 rows x 2 columns]",
      "text/html": "<div>\n<style scoped>\n    .dataframe tbody tr th:only-of-type {\n        vertical-align: middle;\n    }\n\n    .dataframe tbody tr th {\n        vertical-align: top;\n    }\n\n    .dataframe thead th {\n        text-align: right;\n    }\n</style>\n<table border=\"1\" class=\"dataframe\">\n  <thead>\n    <tr style=\"text-align: right;\">\n      <th></th>\n      <th>tweets</th>\n      <th>labels</th>\n    </tr>\n  </thead>\n  <tbody>\n    <tr>\n      <th>0</th>\n      <td>Alright, the ChatGPT AI is pretty neat @NoCont...</td>\n      <td>good</td>\n    </tr>\n    <tr>\n      <th>1</th>\n      <td>Ok I'm definitely going to be replaced soon. B...</td>\n      <td>good</td>\n    </tr>\n    <tr>\n      <th>2</th>\n      <td>I asked the ChatGPT if it could explain 4 famo...</td>\n      <td>neutral</td>\n    </tr>\n    <tr>\n      <th>3</th>\n      <td>ChatGPT Is Too Popular for Its Own Good https:...</td>\n      <td>good</td>\n    </tr>\n    <tr>\n      <th>4</th>\n      <td>I wrote an IDA plugin that queries #ChatGPT an...</td>\n      <td>neutral</td>\n    </tr>\n    <tr>\n      <th>...</th>\n      <td>...</td>\n      <td>...</td>\n    </tr>\n    <tr>\n      <th>59995</th>\n      <td>thanks chatgpt, it will be `burn20(uint256 id,...</td>\n      <td>neutral</td>\n    </tr>\n    <tr>\n      <th>59996</th>\n      <td>&amp;lt;&amp;lt; ...Explain your error message with Ch...</td>\n      <td>neutral</td>\n    </tr>\n    <tr>\n      <th>59997</th>\n      <td>Everyone is talking about #chatgpt3 and its ma...</td>\n      <td>neutral</td>\n    </tr>\n    <tr>\n      <th>59998</th>\n      <td>I spent the weekend playing with ChatGPT, MidJ...</td>\n      <td>neutral</td>\n    </tr>\n    <tr>\n      <th>59999</th>\n      <td>God.  @OpenAI #ChatGPT is overloaded.  Feels l...</td>\n      <td>good</td>\n    </tr>\n  </tbody>\n</table>\n<p>60000 rows × 2 columns</p>\n</div>"
     },
     "execution_count": 10,
     "metadata": {},
     "output_type": "execute_result"
    }
   ],
   "source": [
    "df_new = pd.concat([df_good, df_bad, df_neutral]).sample(\n",
    "    frac=1,\n",
    "    replace=False,\n",
    "    random_state=0,\n",
    "    ignore_index=True\n",
    ")\n",
    "df_new"
   ],
   "metadata": {
    "collapsed": false,
    "ExecuteTime": {
     "end_time": "2023-12-28T15:54:26.024840900Z",
     "start_time": "2023-12-28T15:54:25.897358500Z"
    }
   },
   "id": "419e82d85c1467b1",
   "execution_count": 10
  },
  {
   "cell_type": "code",
   "outputs": [
    {
     "data": {
      "text/plain": "0"
     },
     "execution_count": 11,
     "metadata": {},
     "output_type": "execute_result"
    }
   ],
   "source": [
    "df_new.duplicated().sum()"
   ],
   "metadata": {
    "collapsed": false,
    "ExecuteTime": {
     "end_time": "2023-12-28T15:54:26.050553400Z",
     "start_time": "2023-12-28T15:54:25.919210200Z"
    }
   },
   "id": "7ab732fc41426825",
   "execution_count": 11
  },
  {
   "cell_type": "markdown",
   "source": [
    "# Defining A function for processing the text"
   ],
   "metadata": {
    "collapsed": false
   },
   "id": "8f7a99b09bb36987"
  },
  {
   "cell_type": "code",
   "outputs": [],
   "source": [
    "import spacy\n",
    "import re\n",
    "\n",
    "nlp = spacy.load('en_core_web_sm')\n",
    "\n",
    "\n",
    "def preprocess(text):\n",
    "    \n",
    "    text_without_websites = re.sub(r'https?://\\S+', '', text)\n",
    "    text_without_line_breaks = text_without_websites.replace(r'\\n', ' ')\n",
    "    text = text_without_line_breaks.replace(\"  \", \" \").strip()\n",
    "    \n",
    "    filtered_tokens = []\n",
    "    \n",
    "    for token in nlp(text):\n",
    "        if token.is_punct or token.is_stop:\n",
    "            continue\n",
    "        filtered_tokens.append(token.lemma_)\n",
    "        \n",
    "    return ' '.join(filtered_tokens)"
   ],
   "metadata": {
    "collapsed": false,
    "ExecuteTime": {
     "end_time": "2023-12-28T15:54:27.907559Z",
     "start_time": "2023-12-28T15:54:25.982308600Z"
    }
   },
   "id": "73eafd10c4308c0a",
   "execution_count": 12
  },
  {
   "cell_type": "code",
   "outputs": [
    {
     "data": {
      "text/plain": "                                              tweets   labels  num_labels\n0  Alright, the ChatGPT AI is pretty neat @NoCont...     good           1\n1  Ok I'm definitely going to be replaced soon. B...     good           1\n2  I asked the ChatGPT if it could explain 4 famo...  neutral           0\n3  ChatGPT Is Too Popular for Its Own Good https:...     good           1\n4  I wrote an IDA plugin that queries #ChatGPT an...  neutral           0",
      "text/html": "<div>\n<style scoped>\n    .dataframe tbody tr th:only-of-type {\n        vertical-align: middle;\n    }\n\n    .dataframe tbody tr th {\n        vertical-align: top;\n    }\n\n    .dataframe thead th {\n        text-align: right;\n    }\n</style>\n<table border=\"1\" class=\"dataframe\">\n  <thead>\n    <tr style=\"text-align: right;\">\n      <th></th>\n      <th>tweets</th>\n      <th>labels</th>\n      <th>num_labels</th>\n    </tr>\n  </thead>\n  <tbody>\n    <tr>\n      <th>0</th>\n      <td>Alright, the ChatGPT AI is pretty neat @NoCont...</td>\n      <td>good</td>\n      <td>1</td>\n    </tr>\n    <tr>\n      <th>1</th>\n      <td>Ok I'm definitely going to be replaced soon. B...</td>\n      <td>good</td>\n      <td>1</td>\n    </tr>\n    <tr>\n      <th>2</th>\n      <td>I asked the ChatGPT if it could explain 4 famo...</td>\n      <td>neutral</td>\n      <td>0</td>\n    </tr>\n    <tr>\n      <th>3</th>\n      <td>ChatGPT Is Too Popular for Its Own Good https:...</td>\n      <td>good</td>\n      <td>1</td>\n    </tr>\n    <tr>\n      <th>4</th>\n      <td>I wrote an IDA plugin that queries #ChatGPT an...</td>\n      <td>neutral</td>\n      <td>0</td>\n    </tr>\n  </tbody>\n</table>\n</div>"
     },
     "execution_count": 13,
     "metadata": {},
     "output_type": "execute_result"
    }
   ],
   "source": [
    "df_new['num_labels'] = df_new.labels.map({\n",
    "    \"neutral\":0,\n",
    "    \"good\":1,\n",
    "    \"bad\":2\n",
    "})\n",
    "df_new.head()"
   ],
   "metadata": {
    "collapsed": false,
    "ExecuteTime": {
     "end_time": "2023-12-28T15:54:27.922487600Z",
     "start_time": "2023-12-28T15:54:27.908561800Z"
    }
   },
   "id": "d59ac062086054ba",
   "execution_count": 13
  },
  {
   "cell_type": "code",
   "execution_count": 14,
   "outputs": [
    {
     "data": {
      "text/plain": "                                                  tweets   labels  num_labels  \\\n0      Alright, the ChatGPT AI is pretty neat @NoCont...     good           1   \n1      Ok I'm definitely going to be replaced soon. B...     good           1   \n2      I asked the ChatGPT if it could explain 4 famo...  neutral           0   \n3      ChatGPT Is Too Popular for Its Own Good https:...     good           1   \n4      I wrote an IDA plugin that queries #ChatGPT an...  neutral           0   \n...                                                  ...      ...         ...   \n59995  thanks chatgpt, it will be `burn20(uint256 id,...  neutral           0   \n59996  &lt;&lt; ...Explain your error message with Ch...  neutral           0   \n59997  Everyone is talking about #chatgpt3 and its ma...  neutral           0   \n59998  I spent the weekend playing with ChatGPT, MidJ...  neutral           0   \n59999  God.  @OpenAI #ChatGPT is overloaded.  Feels l...     good           1   \n\n                                        processed_tweets  \n0          alright ChatGPT AI pretty neat @nocontextvarg  \n1      ok definitely go replace soon importantly chat...  \n2      ask chatgpt explain 4 famous chess quote Timma...  \n3                                   chatgpt popular good  \n4      write ida plugin query chatgpt explain decompi...  \n...                                                  ...  \n59995  thank chatgpt ` burn20(uint256 id owner addres...  \n59996  lt;&lt explain error message ChatGPT gt;&gt 🤦 ...  \n59997  talk chatgpt3 massive application see talk ben...  \n59998  spend weekend play ChatGPT MidJourney AI tool ...  \n59999  God @openai chatgpt overload feel like limb co...  \n\n[60000 rows x 4 columns]",
      "text/html": "<div>\n<style scoped>\n    .dataframe tbody tr th:only-of-type {\n        vertical-align: middle;\n    }\n\n    .dataframe tbody tr th {\n        vertical-align: top;\n    }\n\n    .dataframe thead th {\n        text-align: right;\n    }\n</style>\n<table border=\"1\" class=\"dataframe\">\n  <thead>\n    <tr style=\"text-align: right;\">\n      <th></th>\n      <th>tweets</th>\n      <th>labels</th>\n      <th>num_labels</th>\n      <th>processed_tweets</th>\n    </tr>\n  </thead>\n  <tbody>\n    <tr>\n      <th>0</th>\n      <td>Alright, the ChatGPT AI is pretty neat @NoCont...</td>\n      <td>good</td>\n      <td>1</td>\n      <td>alright ChatGPT AI pretty neat @nocontextvarg</td>\n    </tr>\n    <tr>\n      <th>1</th>\n      <td>Ok I'm definitely going to be replaced soon. B...</td>\n      <td>good</td>\n      <td>1</td>\n      <td>ok definitely go replace soon importantly chat...</td>\n    </tr>\n    <tr>\n      <th>2</th>\n      <td>I asked the ChatGPT if it could explain 4 famo...</td>\n      <td>neutral</td>\n      <td>0</td>\n      <td>ask chatgpt explain 4 famous chess quote Timma...</td>\n    </tr>\n    <tr>\n      <th>3</th>\n      <td>ChatGPT Is Too Popular for Its Own Good https:...</td>\n      <td>good</td>\n      <td>1</td>\n      <td>chatgpt popular good</td>\n    </tr>\n    <tr>\n      <th>4</th>\n      <td>I wrote an IDA plugin that queries #ChatGPT an...</td>\n      <td>neutral</td>\n      <td>0</td>\n      <td>write ida plugin query chatgpt explain decompi...</td>\n    </tr>\n    <tr>\n      <th>...</th>\n      <td>...</td>\n      <td>...</td>\n      <td>...</td>\n      <td>...</td>\n    </tr>\n    <tr>\n      <th>59995</th>\n      <td>thanks chatgpt, it will be `burn20(uint256 id,...</td>\n      <td>neutral</td>\n      <td>0</td>\n      <td>thank chatgpt ` burn20(uint256 id owner addres...</td>\n    </tr>\n    <tr>\n      <th>59996</th>\n      <td>&amp;lt;&amp;lt; ...Explain your error message with Ch...</td>\n      <td>neutral</td>\n      <td>0</td>\n      <td>lt;&amp;lt explain error message ChatGPT gt;&amp;gt 🤦 ...</td>\n    </tr>\n    <tr>\n      <th>59997</th>\n      <td>Everyone is talking about #chatgpt3 and its ma...</td>\n      <td>neutral</td>\n      <td>0</td>\n      <td>talk chatgpt3 massive application see talk ben...</td>\n    </tr>\n    <tr>\n      <th>59998</th>\n      <td>I spent the weekend playing with ChatGPT, MidJ...</td>\n      <td>neutral</td>\n      <td>0</td>\n      <td>spend weekend play ChatGPT MidJourney AI tool ...</td>\n    </tr>\n    <tr>\n      <th>59999</th>\n      <td>God.  @OpenAI #ChatGPT is overloaded.  Feels l...</td>\n      <td>good</td>\n      <td>1</td>\n      <td>God @openai chatgpt overload feel like limb co...</td>\n    </tr>\n  </tbody>\n</table>\n<p>60000 rows × 4 columns</p>\n</div>"
     },
     "execution_count": 14,
     "metadata": {},
     "output_type": "execute_result"
    }
   ],
   "source": [
    "df_new['processed_tweets'] = df_new.tweets.apply(preprocess)\n",
    "df_new"
   ],
   "metadata": {
    "collapsed": false,
    "ExecuteTime": {
     "end_time": "2023-12-28T16:02:32.919891600Z",
     "start_time": "2023-12-28T15:54:27.925991700Z"
    }
   },
   "id": "ce02fa21356fe4a6"
  },
  {
   "cell_type": "code",
   "execution_count": 15,
   "outputs": [
    {
     "data": {
      "text/plain": "   num_labels                                   processed_tweets\n0           1      alright ChatGPT AI pretty neat @nocontextvarg\n1           1  ok definitely go replace soon importantly chat...\n2           0  ask chatgpt explain 4 famous chess quote Timma...\n3           1                               chatgpt popular good\n4           0  write ida plugin query chatgpt explain decompi...",
      "text/html": "<div>\n<style scoped>\n    .dataframe tbody tr th:only-of-type {\n        vertical-align: middle;\n    }\n\n    .dataframe tbody tr th {\n        vertical-align: top;\n    }\n\n    .dataframe thead th {\n        text-align: right;\n    }\n</style>\n<table border=\"1\" class=\"dataframe\">\n  <thead>\n    <tr style=\"text-align: right;\">\n      <th></th>\n      <th>num_labels</th>\n      <th>processed_tweets</th>\n    </tr>\n  </thead>\n  <tbody>\n    <tr>\n      <th>0</th>\n      <td>1</td>\n      <td>alright ChatGPT AI pretty neat @nocontextvarg</td>\n    </tr>\n    <tr>\n      <th>1</th>\n      <td>1</td>\n      <td>ok definitely go replace soon importantly chat...</td>\n    </tr>\n    <tr>\n      <th>2</th>\n      <td>0</td>\n      <td>ask chatgpt explain 4 famous chess quote Timma...</td>\n    </tr>\n    <tr>\n      <th>3</th>\n      <td>1</td>\n      <td>chatgpt popular good</td>\n    </tr>\n    <tr>\n      <th>4</th>\n      <td>0</td>\n      <td>write ida plugin query chatgpt explain decompi...</td>\n    </tr>\n  </tbody>\n</table>\n</div>"
     },
     "execution_count": 15,
     "metadata": {},
     "output_type": "execute_result"
    }
   ],
   "source": [
    "df_new = df_new.drop(columns=['labels', 'tweets'])\n",
    "df_new.head()"
   ],
   "metadata": {
    "collapsed": false,
    "ExecuteTime": {
     "end_time": "2023-12-28T16:02:32.931030100Z",
     "start_time": "2023-12-28T16:02:32.912039500Z"
    }
   },
   "id": "b56ef635452f9af8"
  },
  {
   "cell_type": "code",
   "outputs": [],
   "source": [
    "df_new.to_csv(\n",
    "    \"processed_file.csv\",\n",
    "    index=False\n",
    ")"
   ],
   "metadata": {
    "collapsed": false,
    "ExecuteTime": {
     "end_time": "2023-12-28T16:19:07.203243600Z",
     "start_time": "2023-12-28T16:19:07.016863300Z"
    }
   },
   "id": "a22ad91232f4ce11",
   "execution_count": 17
  }
 ],
 "metadata": {
  "kernelspec": {
   "display_name": "Python 3",
   "language": "python",
   "name": "python3"
  },
  "language_info": {
   "codemirror_mode": {
    "name": "ipython",
    "version": 2
   },
   "file_extension": ".py",
   "mimetype": "text/x-python",
   "name": "python",
   "nbconvert_exporter": "python",
   "pygments_lexer": "ipython2",
   "version": "2.7.6"
  }
 },
 "nbformat": 4,
 "nbformat_minor": 5
}
