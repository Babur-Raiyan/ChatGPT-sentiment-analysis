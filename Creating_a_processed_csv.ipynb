{
 "cells": [
  {
   "cell_type": "code",
   "execution_count": 1,
   "id": "initial_id",
   "metadata": {
    "collapsed": true,
    "ExecuteTime": {
     "end_time": "2023-12-26T14:54:21.803682377Z",
     "start_time": "2023-12-26T14:54:20.083454644Z"
    }
   },
   "outputs": [],
   "source": [
    "%load_ext cudf.pandas\n",
    "import pandas as pd"
   ]
  },
  {
   "cell_type": "code",
   "outputs": [
    {
     "data": {
      "text/plain": "   Unnamed: 0                                             tweets   labels\n0           0  ChatGPT: Optimizing Language Models for Dialog...  neutral\n1           1  Try talking with ChatGPT, our new AI system wh...     good\n2           2  ChatGPT: Optimizing Language Models for Dialog...  neutral\n3           3  THRILLED to share that ChatGPT, our new model ...     good\n4           4  As of 2 minutes ago, @OpenAI released their ne...      bad",
      "text/html": "<div>\n<style scoped>\n    .dataframe tbody tr th:only-of-type {\n        vertical-align: middle;\n    }\n\n    .dataframe tbody tr th {\n        vertical-align: top;\n    }\n\n    .dataframe thead th {\n        text-align: right;\n    }\n</style>\n<table border=\"1\" class=\"dataframe\">\n  <thead>\n    <tr style=\"text-align: right;\">\n      <th></th>\n      <th>Unnamed: 0</th>\n      <th>tweets</th>\n      <th>labels</th>\n    </tr>\n  </thead>\n  <tbody>\n    <tr>\n      <th>0</th>\n      <td>0</td>\n      <td>ChatGPT: Optimizing Language Models for Dialog...</td>\n      <td>neutral</td>\n    </tr>\n    <tr>\n      <th>1</th>\n      <td>1</td>\n      <td>Try talking with ChatGPT, our new AI system wh...</td>\n      <td>good</td>\n    </tr>\n    <tr>\n      <th>2</th>\n      <td>2</td>\n      <td>ChatGPT: Optimizing Language Models for Dialog...</td>\n      <td>neutral</td>\n    </tr>\n    <tr>\n      <th>3</th>\n      <td>3</td>\n      <td>THRILLED to share that ChatGPT, our new model ...</td>\n      <td>good</td>\n    </tr>\n    <tr>\n      <th>4</th>\n      <td>4</td>\n      <td>As of 2 minutes ago, @OpenAI released their ne...</td>\n      <td>bad</td>\n    </tr>\n  </tbody>\n</table>\n</div>"
     },
     "execution_count": 19,
     "metadata": {},
     "output_type": "execute_result"
    },
    {
     "data": {
      "text/plain": "\u001B[3m                                                                                                        \u001B[0m\n\u001B[3m                                       Total time elapsed: 0.339 seconds                                \u001B[0m\n\u001B[3m                                     4 GPU function calls in 0.066 seconds                              \u001B[0m\n\u001B[3m                                     0 CPU function calls in 0.000 seconds                              \u001B[0m\n\u001B[3m                                                                                                        \u001B[0m\n\u001B[3m                                                     Stats                                              \u001B[0m\n\u001B[3m                                                                                                        \u001B[0m\n┏━━━━━━━━━━━━━━━━━━━━┳━━━━━━━━━━━━┳━━━━━━━━━━━━━┳━━━━━━━━━━━━━┳━━━━━━━━━━━━┳━━━━━━━━━━━━━┳━━━━━━━━━━━━━┓\n┃\u001B[1m \u001B[0m\u001B[1mFunction          \u001B[0m\u001B[1m \u001B[0m┃\u001B[1m \u001B[0m\u001B[1mGPU ncalls\u001B[0m\u001B[1m \u001B[0m┃\u001B[1m \u001B[0m\u001B[1mGPU cumtime\u001B[0m\u001B[1m \u001B[0m┃\u001B[1m \u001B[0m\u001B[1mGPU percall\u001B[0m\u001B[1m \u001B[0m┃\u001B[1m \u001B[0m\u001B[1mCPU ncalls\u001B[0m\u001B[1m \u001B[0m┃\u001B[1m \u001B[0m\u001B[1mCPU cumtime\u001B[0m\u001B[1m \u001B[0m┃\u001B[1m \u001B[0m\u001B[1mCPU percall\u001B[0m\u001B[1m \u001B[0m┃\n┡━━━━━━━━━━━━━━━━━━━━╇━━━━━━━━━━━━╇━━━━━━━━━━━━━╇━━━━━━━━━━━━━╇━━━━━━━━━━━━╇━━━━━━━━━━━━━╇━━━━━━━━━━━━━┩\n│ read_csv           │ 1          │ 0.041       │ 0.041       │ 0          │ 0.000       │ 0.000       │\n│ DataFrame.head     │ 1          │ 0.003       │ 0.003       │ 0          │ 0.000       │ 0.000       │\n│ DataFrame          │ 1          │ 0.000       │ 0.000       │ 0          │ 0.000       │ 0.000       │\n│ DataFrame.__repr__ │ 1          │ 0.021       │ 0.021       │ 0          │ 0.000       │ 0.000       │\n└────────────────────┴────────────┴─────────────┴─────────────┴────────────┴─────────────┴─────────────┘\n",
      "text/html": "<pre style=\"white-space:pre;overflow-x:auto;line-height:normal;font-family:Menlo,'DejaVu Sans Mono',consolas,'Courier New',monospace\"><span style=\"font-style: italic\">                                                                                                        </span>\n<span style=\"font-style: italic\">                                       Total time elapsed: 0.339 seconds                                </span>\n<span style=\"font-style: italic\">                                     4 GPU function calls in 0.066 seconds                              </span>\n<span style=\"font-style: italic\">                                     0 CPU function calls in 0.000 seconds                              </span>\n<span style=\"font-style: italic\">                                                                                                        </span>\n<span style=\"font-style: italic\">                                                     Stats                                              </span>\n<span style=\"font-style: italic\">                                                                                                        </span>\n┏━━━━━━━━━━━━━━━━━━━━┳━━━━━━━━━━━━┳━━━━━━━━━━━━━┳━━━━━━━━━━━━━┳━━━━━━━━━━━━┳━━━━━━━━━━━━━┳━━━━━━━━━━━━━┓\n┃<span style=\"font-weight: bold\"> Function           </span>┃<span style=\"font-weight: bold\"> GPU ncalls </span>┃<span style=\"font-weight: bold\"> GPU cumtime </span>┃<span style=\"font-weight: bold\"> GPU percall </span>┃<span style=\"font-weight: bold\"> CPU ncalls </span>┃<span style=\"font-weight: bold\"> CPU cumtime </span>┃<span style=\"font-weight: bold\"> CPU percall </span>┃\n┡━━━━━━━━━━━━━━━━━━━━╇━━━━━━━━━━━━╇━━━━━━━━━━━━━╇━━━━━━━━━━━━━╇━━━━━━━━━━━━╇━━━━━━━━━━━━━╇━━━━━━━━━━━━━┩\n│ read_csv           │ 1          │ 0.041       │ 0.041       │ 0          │ 0.000       │ 0.000       │\n│ DataFrame.head     │ 1          │ 0.003       │ 0.003       │ 0          │ 0.000       │ 0.000       │\n│ DataFrame          │ 1          │ 0.000       │ 0.000       │ 0          │ 0.000       │ 0.000       │\n│ DataFrame.__repr__ │ 1          │ 0.021       │ 0.021       │ 0          │ 0.000       │ 0.000       │\n└────────────────────┴────────────┴─────────────┴─────────────┴────────────┴─────────────┴─────────────┘\n</pre>\n"
     },
     "metadata": {},
     "output_type": "display_data"
    }
   ],
   "source": [
    "%%cudf.pandas.profile\n",
    "\n",
    "df = pd.read_csv(\"./dataset_folder/archive/file.csv\")\n",
    "df.head()"
   ],
   "metadata": {
    "collapsed": false,
    "ExecuteTime": {
     "end_time": "2023-12-26T15:19:23.962218680Z",
     "start_time": "2023-12-26T15:19:23.610268153Z"
    }
   },
   "id": "7784ee11ab3e1477",
   "execution_count": 19
  },
  {
   "cell_type": "code",
   "outputs": [
    {
     "data": {
      "text/plain": "                                              tweets   labels\n0  ChatGPT: Optimizing Language Models for Dialog...  neutral\n1  Try talking with ChatGPT, our new AI system wh...     good\n2  ChatGPT: Optimizing Language Models for Dialog...  neutral\n3  THRILLED to share that ChatGPT, our new model ...     good\n4  As of 2 minutes ago, @OpenAI released their ne...      bad",
      "text/html": "<div>\n<style scoped>\n    .dataframe tbody tr th:only-of-type {\n        vertical-align: middle;\n    }\n\n    .dataframe tbody tr th {\n        vertical-align: top;\n    }\n\n    .dataframe thead th {\n        text-align: right;\n    }\n</style>\n<table border=\"1\" class=\"dataframe\">\n  <thead>\n    <tr style=\"text-align: right;\">\n      <th></th>\n      <th>tweets</th>\n      <th>labels</th>\n    </tr>\n  </thead>\n  <tbody>\n    <tr>\n      <th>0</th>\n      <td>ChatGPT: Optimizing Language Models for Dialog...</td>\n      <td>neutral</td>\n    </tr>\n    <tr>\n      <th>1</th>\n      <td>Try talking with ChatGPT, our new AI system wh...</td>\n      <td>good</td>\n    </tr>\n    <tr>\n      <th>2</th>\n      <td>ChatGPT: Optimizing Language Models for Dialog...</td>\n      <td>neutral</td>\n    </tr>\n    <tr>\n      <th>3</th>\n      <td>THRILLED to share that ChatGPT, our new model ...</td>\n      <td>good</td>\n    </tr>\n    <tr>\n      <th>4</th>\n      <td>As of 2 minutes ago, @OpenAI released their ne...</td>\n      <td>bad</td>\n    </tr>\n  </tbody>\n</table>\n</div>"
     },
     "execution_count": 20,
     "metadata": {},
     "output_type": "execute_result"
    }
   ],
   "source": [
    "df = df.drop(columns=['Unnamed: 0'])\n",
    "df.head()"
   ],
   "metadata": {
    "collapsed": false,
    "ExecuteTime": {
     "end_time": "2023-12-26T15:19:33.582601089Z",
     "start_time": "2023-12-26T15:19:33.553969109Z"
    }
   },
   "id": "4d8111879022760d",
   "execution_count": 20
  },
  {
   "cell_type": "code",
   "outputs": [
    {
     "data": {
      "text/plain": "tweets    0\nlabels    0\ndtype: int64"
     },
     "execution_count": 21,
     "metadata": {},
     "output_type": "execute_result"
    }
   ],
   "source": [
    "df.isna().sum()"
   ],
   "metadata": {
    "collapsed": false,
    "ExecuteTime": {
     "end_time": "2023-12-26T15:19:36.571857022Z",
     "start_time": "2023-12-26T15:19:36.542035822Z"
    }
   },
   "id": "86a7b1d904232edb",
   "execution_count": 21
  },
  {
   "cell_type": "code",
   "outputs": [
    {
     "data": {
      "text/plain": "1671"
     },
     "execution_count": 22,
     "metadata": {},
     "output_type": "execute_result"
    }
   ],
   "source": [
    "df.duplicated().sum()"
   ],
   "metadata": {
    "collapsed": false,
    "ExecuteTime": {
     "end_time": "2023-12-26T15:19:40.317937694Z",
     "start_time": "2023-12-26T15:19:40.235113932Z"
    }
   },
   "id": "2c992d439dd12101",
   "execution_count": 22
  },
  {
   "cell_type": "code",
   "outputs": [],
   "source": [
    "df = df.drop_duplicates()"
   ],
   "metadata": {
    "collapsed": false,
    "ExecuteTime": {
     "end_time": "2023-12-26T15:19:43.434770469Z",
     "start_time": "2023-12-26T15:19:43.415999567Z"
    }
   },
   "id": "258324cb5576fe86",
   "execution_count": 23
  },
  {
   "cell_type": "code",
   "outputs": [
    {
     "data": {
      "text/plain": "                                                 tweets labels\n0     Fascinating. Where ChatGPT draws the line is s...   good\n1     Day 10 / #100DaysOfCode \\n\\nToday I explored #...   good\n2     Won't be surprised if a few companies replace ...   good\n3     Predictions from #ChatGPT should be interestin...   good\n4     Someone told me about this OpenAI ChatGPT thin...   good\n...                                                 ...    ...\n4995  The difference I see in OpenAI's ChatGPT, vs p...   good\n4996  I just spent about 40min playing around with C...   good\n4997  Question : What is the best freemium model for...   good\n4998  #technology #artificialintelligence #online He...   good\n4999  when i see people posting chatGPT screenshots ...   good\n\n[5000 rows x 2 columns]",
      "text/html": "<div>\n<style scoped>\n    .dataframe tbody tr th:only-of-type {\n        vertical-align: middle;\n    }\n\n    .dataframe tbody tr th {\n        vertical-align: top;\n    }\n\n    .dataframe thead th {\n        text-align: right;\n    }\n</style>\n<table border=\"1\" class=\"dataframe\">\n  <thead>\n    <tr style=\"text-align: right;\">\n      <th></th>\n      <th>tweets</th>\n      <th>labels</th>\n    </tr>\n  </thead>\n  <tbody>\n    <tr>\n      <th>0</th>\n      <td>Fascinating. Where ChatGPT draws the line is s...</td>\n      <td>good</td>\n    </tr>\n    <tr>\n      <th>1</th>\n      <td>Day 10 / #100DaysOfCode \\n\\nToday I explored #...</td>\n      <td>good</td>\n    </tr>\n    <tr>\n      <th>2</th>\n      <td>Won't be surprised if a few companies replace ...</td>\n      <td>good</td>\n    </tr>\n    <tr>\n      <th>3</th>\n      <td>Predictions from #ChatGPT should be interestin...</td>\n      <td>good</td>\n    </tr>\n    <tr>\n      <th>4</th>\n      <td>Someone told me about this OpenAI ChatGPT thin...</td>\n      <td>good</td>\n    </tr>\n    <tr>\n      <th>...</th>\n      <td>...</td>\n      <td>...</td>\n    </tr>\n    <tr>\n      <th>4995</th>\n      <td>The difference I see in OpenAI's ChatGPT, vs p...</td>\n      <td>good</td>\n    </tr>\n    <tr>\n      <th>4996</th>\n      <td>I just spent about 40min playing around with C...</td>\n      <td>good</td>\n    </tr>\n    <tr>\n      <th>4997</th>\n      <td>Question : What is the best freemium model for...</td>\n      <td>good</td>\n    </tr>\n    <tr>\n      <th>4998</th>\n      <td>#technology #artificialintelligence #online He...</td>\n      <td>good</td>\n    </tr>\n    <tr>\n      <th>4999</th>\n      <td>when i see people posting chatGPT screenshots ...</td>\n      <td>good</td>\n    </tr>\n  </tbody>\n</table>\n<p>5000 rows × 2 columns</p>\n</div>"
     },
     "execution_count": 24,
     "metadata": {},
     "output_type": "execute_result"
    }
   ],
   "source": [
    "df_good = df[df.labels == \"good\"].sample(\n",
    "    n=5000,\n",
    "    replace=False,\n",
    "    ignore_index=True\n",
    ")\n",
    "df_good"
   ],
   "metadata": {
    "collapsed": false,
    "ExecuteTime": {
     "end_time": "2023-12-26T15:19:46.578287384Z",
     "start_time": "2023-12-26T15:19:46.541269261Z"
    }
   },
   "id": "3ad7fb39113bdf0a",
   "execution_count": 24
  },
  {
   "cell_type": "code",
   "outputs": [
    {
     "data": {
      "text/plain": "                                                 tweets labels\n0     I’m officially a ChatGPT user https://t.co/agp...    bad\n1     ChatGPT Holds Promise and Peril /// https://t....    bad\n2     Most tweeted articles today in Artificial Inte...    bad\n3     What is ChatGPT, the AI taking the web by stor...    bad\n4     Again To ChatGPT:\\n\"Refactor the script by usi...    bad\n...                                                 ...    ...\n4995  Instead of making ChatGPT an oracle, what if y...    bad\n4996  Top story: Ist die ChatGPT AI der ultimative G...    bad\n4997                            Chatgpt is the future 💯    bad\n4998  ChatGPT: Everything you really need to know (I...    bad\n4999  Business Today: ChatGPT: This Elon Musk-founde...    bad\n\n[5000 rows x 2 columns]",
      "text/html": "<div>\n<style scoped>\n    .dataframe tbody tr th:only-of-type {\n        vertical-align: middle;\n    }\n\n    .dataframe tbody tr th {\n        vertical-align: top;\n    }\n\n    .dataframe thead th {\n        text-align: right;\n    }\n</style>\n<table border=\"1\" class=\"dataframe\">\n  <thead>\n    <tr style=\"text-align: right;\">\n      <th></th>\n      <th>tweets</th>\n      <th>labels</th>\n    </tr>\n  </thead>\n  <tbody>\n    <tr>\n      <th>0</th>\n      <td>I’m officially a ChatGPT user https://t.co/agp...</td>\n      <td>bad</td>\n    </tr>\n    <tr>\n      <th>1</th>\n      <td>ChatGPT Holds Promise and Peril /// https://t....</td>\n      <td>bad</td>\n    </tr>\n    <tr>\n      <th>2</th>\n      <td>Most tweeted articles today in Artificial Inte...</td>\n      <td>bad</td>\n    </tr>\n    <tr>\n      <th>3</th>\n      <td>What is ChatGPT, the AI taking the web by stor...</td>\n      <td>bad</td>\n    </tr>\n    <tr>\n      <th>4</th>\n      <td>Again To ChatGPT:\\n\"Refactor the script by usi...</td>\n      <td>bad</td>\n    </tr>\n    <tr>\n      <th>...</th>\n      <td>...</td>\n      <td>...</td>\n    </tr>\n    <tr>\n      <th>4995</th>\n      <td>Instead of making ChatGPT an oracle, what if y...</td>\n      <td>bad</td>\n    </tr>\n    <tr>\n      <th>4996</th>\n      <td>Top story: Ist die ChatGPT AI der ultimative G...</td>\n      <td>bad</td>\n    </tr>\n    <tr>\n      <th>4997</th>\n      <td>Chatgpt is the future 💯</td>\n      <td>bad</td>\n    </tr>\n    <tr>\n      <th>4998</th>\n      <td>ChatGPT: Everything you really need to know (I...</td>\n      <td>bad</td>\n    </tr>\n    <tr>\n      <th>4999</th>\n      <td>Business Today: ChatGPT: This Elon Musk-founde...</td>\n      <td>bad</td>\n    </tr>\n  </tbody>\n</table>\n<p>5000 rows × 2 columns</p>\n</div>"
     },
     "execution_count": 25,
     "metadata": {},
     "output_type": "execute_result"
    }
   ],
   "source": [
    "df_bad = df[df.labels == \"bad\"].sample(\n",
    "    n=5000,\n",
    "    replace=False,\n",
    "    ignore_index=True\n",
    ")\n",
    "df_bad"
   ],
   "metadata": {
    "collapsed": false,
    "ExecuteTime": {
     "end_time": "2023-12-26T15:19:52.810399030Z",
     "start_time": "2023-12-26T15:19:52.758724245Z"
    }
   },
   "id": "7d12fd5db837d1af",
   "execution_count": 25
  },
  {
   "cell_type": "code",
   "outputs": [
    {
     "data": {
      "text/plain": "                                                 tweets   labels\n0     Mosaic (1993), iPhone (2007), ChatGPT (2022). ...  neutral\n1     US Top News | Wed | 14 Dec | 20:36 | UTC | Wha...  neutral\n2     ChatGPT is the solution to all the people that...  neutral\n3     I can't stop laughing #memes #meme #funny #Ope...  neutral\n4     💡 Is there a path to enlightenment? I asked an...  neutral\n...                                                 ...      ...\n4995  ChatGPT Could Soon Be the Better Way to Google...  neutral\n4996  I used ChatGPT to do my holiday shopping this ...  neutral\n4997  #ChatGPT says no, but I think it means yes 😂 h...  neutral\n4998  Asked ChatGPT an interesting onc clinical ques...  neutral\n4999  Crazy result…this is pretty much my workflow h...  neutral\n\n[5000 rows x 2 columns]",
      "text/html": "<div>\n<style scoped>\n    .dataframe tbody tr th:only-of-type {\n        vertical-align: middle;\n    }\n\n    .dataframe tbody tr th {\n        vertical-align: top;\n    }\n\n    .dataframe thead th {\n        text-align: right;\n    }\n</style>\n<table border=\"1\" class=\"dataframe\">\n  <thead>\n    <tr style=\"text-align: right;\">\n      <th></th>\n      <th>tweets</th>\n      <th>labels</th>\n    </tr>\n  </thead>\n  <tbody>\n    <tr>\n      <th>0</th>\n      <td>Mosaic (1993), iPhone (2007), ChatGPT (2022). ...</td>\n      <td>neutral</td>\n    </tr>\n    <tr>\n      <th>1</th>\n      <td>US Top News | Wed | 14 Dec | 20:36 | UTC | Wha...</td>\n      <td>neutral</td>\n    </tr>\n    <tr>\n      <th>2</th>\n      <td>ChatGPT is the solution to all the people that...</td>\n      <td>neutral</td>\n    </tr>\n    <tr>\n      <th>3</th>\n      <td>I can't stop laughing #memes #meme #funny #Ope...</td>\n      <td>neutral</td>\n    </tr>\n    <tr>\n      <th>4</th>\n      <td>💡 Is there a path to enlightenment? I asked an...</td>\n      <td>neutral</td>\n    </tr>\n    <tr>\n      <th>...</th>\n      <td>...</td>\n      <td>...</td>\n    </tr>\n    <tr>\n      <th>4995</th>\n      <td>ChatGPT Could Soon Be the Better Way to Google...</td>\n      <td>neutral</td>\n    </tr>\n    <tr>\n      <th>4996</th>\n      <td>I used ChatGPT to do my holiday shopping this ...</td>\n      <td>neutral</td>\n    </tr>\n    <tr>\n      <th>4997</th>\n      <td>#ChatGPT says no, but I think it means yes 😂 h...</td>\n      <td>neutral</td>\n    </tr>\n    <tr>\n      <th>4998</th>\n      <td>Asked ChatGPT an interesting onc clinical ques...</td>\n      <td>neutral</td>\n    </tr>\n    <tr>\n      <th>4999</th>\n      <td>Crazy result…this is pretty much my workflow h...</td>\n      <td>neutral</td>\n    </tr>\n  </tbody>\n</table>\n<p>5000 rows × 2 columns</p>\n</div>"
     },
     "execution_count": 26,
     "metadata": {},
     "output_type": "execute_result"
    }
   ],
   "source": [
    "df_neutral = df[df.labels == \"neutral\"].sample(\n",
    "    n=5000,\n",
    "    replace=False,\n",
    "    ignore_index=True\n",
    ")\n",
    "df_neutral"
   ],
   "metadata": {
    "collapsed": false,
    "ExecuteTime": {
     "end_time": "2023-12-26T15:19:56.297782547Z",
     "start_time": "2023-12-26T15:19:56.264058428Z"
    }
   },
   "id": "b6262ba86b4f5ccb",
   "execution_count": 26
  },
  {
   "cell_type": "code",
   "outputs": [
    {
     "data": {
      "text/plain": "                                                 tweets   labels\n3292  I just spoke in #Esperanto with #ChatGPT :D ht...      bad\n4533  1/ @OpenAI's ChatGPT + @__UBERDUCK__  + my lac...  neutral\n4631  ChatGPT is interesting but I am curious when a...     good\n2200  ChatGPT is an amazing achievement but it won't...     good\n2482  Wow! #ChatGPT can learn some pretty nifty tric...     good\n...                                                 ...      ...\n644   Looks like the Cavemen put #chatGPT through a ...     good\n4456  Bro HHHHHHHHHHHHHH\\nthis #ChatGPT is just amaz...     good\n4295  I copied a pasted a math problem from https://...      bad\n3130  chatGPT writes better code than half the profs...  neutral\n1969  ME: ChatGPT, How to grow the audience on Twitt...      bad\n\n[15000 rows x 2 columns]",
      "text/html": "<div>\n<style scoped>\n    .dataframe tbody tr th:only-of-type {\n        vertical-align: middle;\n    }\n\n    .dataframe tbody tr th {\n        vertical-align: top;\n    }\n\n    .dataframe thead th {\n        text-align: right;\n    }\n</style>\n<table border=\"1\" class=\"dataframe\">\n  <thead>\n    <tr style=\"text-align: right;\">\n      <th></th>\n      <th>tweets</th>\n      <th>labels</th>\n    </tr>\n  </thead>\n  <tbody>\n    <tr>\n      <th>3292</th>\n      <td>I just spoke in #Esperanto with #ChatGPT :D ht...</td>\n      <td>bad</td>\n    </tr>\n    <tr>\n      <th>4533</th>\n      <td>1/ @OpenAI's ChatGPT + @__UBERDUCK__  + my lac...</td>\n      <td>neutral</td>\n    </tr>\n    <tr>\n      <th>4631</th>\n      <td>ChatGPT is interesting but I am curious when a...</td>\n      <td>good</td>\n    </tr>\n    <tr>\n      <th>2200</th>\n      <td>ChatGPT is an amazing achievement but it won't...</td>\n      <td>good</td>\n    </tr>\n    <tr>\n      <th>2482</th>\n      <td>Wow! #ChatGPT can learn some pretty nifty tric...</td>\n      <td>good</td>\n    </tr>\n    <tr>\n      <th>...</th>\n      <td>...</td>\n      <td>...</td>\n    </tr>\n    <tr>\n      <th>644</th>\n      <td>Looks like the Cavemen put #chatGPT through a ...</td>\n      <td>good</td>\n    </tr>\n    <tr>\n      <th>4456</th>\n      <td>Bro HHHHHHHHHHHHHH\\nthis #ChatGPT is just amaz...</td>\n      <td>good</td>\n    </tr>\n    <tr>\n      <th>4295</th>\n      <td>I copied a pasted a math problem from https://...</td>\n      <td>bad</td>\n    </tr>\n    <tr>\n      <th>3130</th>\n      <td>chatGPT writes better code than half the profs...</td>\n      <td>neutral</td>\n    </tr>\n    <tr>\n      <th>1969</th>\n      <td>ME: ChatGPT, How to grow the audience on Twitt...</td>\n      <td>bad</td>\n    </tr>\n  </tbody>\n</table>\n<p>15000 rows × 2 columns</p>\n</div>"
     },
     "execution_count": 27,
     "metadata": {},
     "output_type": "execute_result"
    }
   ],
   "source": [
    "df_new = pd.concat([df_good, df_bad, df_neutral]).sample(\n",
    "    frac=1,\n",
    "    replace=False\n",
    ")\n",
    "df_new"
   ],
   "metadata": {
    "collapsed": false,
    "ExecuteTime": {
     "end_time": "2023-12-26T15:20:13.115393439Z",
     "start_time": "2023-12-26T15:20:13.072167981Z"
    }
   },
   "id": "419e82d85c1467b1",
   "execution_count": 27
  },
  {
   "cell_type": "code",
   "outputs": [
    {
     "data": {
      "text/plain": "0"
     },
     "execution_count": 28,
     "metadata": {},
     "output_type": "execute_result"
    }
   ],
   "source": [
    "df_new.duplicated().sum()"
   ],
   "metadata": {
    "collapsed": false,
    "ExecuteTime": {
     "end_time": "2023-12-26T15:20:44.732374391Z",
     "start_time": "2023-12-26T15:20:44.686029637Z"
    }
   },
   "id": "7ab732fc41426825",
   "execution_count": 28
  },
  {
   "cell_type": "markdown",
   "source": [
    "# Defining A function for processing the text"
   ],
   "metadata": {
    "collapsed": false
   },
   "id": "8f7a99b09bb36987"
  },
  {
   "cell_type": "code",
   "outputs": [],
   "source": [
    "import spacy\n",
    "import re\n",
    "\n",
    "nlp = spacy.load('en_core_web_sm')\n",
    "\n",
    "\n",
    "def preprocess(text):\n",
    "    \n",
    "    text_without_websites = re.sub(r'https?://\\S+', '', text)\n",
    "    text_without_line_breaks = text_without_websites.replace('\\n', ' ')\n",
    "    text = text_without_line_breaks.replace(\"  \", \" \").strip()\n",
    "    \n",
    "    filtered_tokens = []\n",
    "    \n",
    "    for token in nlp(text):\n",
    "        if token.is_punct or token.is_stop:\n",
    "            continue\n",
    "        filtered_tokens.append(token.lemma_)\n",
    "        \n",
    "    return ' '.join(filtered_tokens)"
   ],
   "metadata": {
    "collapsed": false,
    "ExecuteTime": {
     "end_time": "2023-12-26T15:13:06.318558540Z",
     "start_time": "2023-12-26T15:13:05.212477445Z"
    }
   },
   "id": "73eafd10c4308c0a",
   "execution_count": 15
  },
  {
   "cell_type": "code",
   "outputs": [
    {
     "data": {
      "text/plain": "                                                 tweets   labels  num_labels\n3292  I just spoke in #Esperanto with #ChatGPT :D ht...      bad           2\n4533  1/ @OpenAI's ChatGPT + @__UBERDUCK__  + my lac...  neutral           0\n4631  ChatGPT is interesting but I am curious when a...     good           1\n2200  ChatGPT is an amazing achievement but it won't...     good           1\n2482  Wow! #ChatGPT can learn some pretty nifty tric...     good           1",
      "text/html": "<div>\n<style scoped>\n    .dataframe tbody tr th:only-of-type {\n        vertical-align: middle;\n    }\n\n    .dataframe tbody tr th {\n        vertical-align: top;\n    }\n\n    .dataframe thead th {\n        text-align: right;\n    }\n</style>\n<table border=\"1\" class=\"dataframe\">\n  <thead>\n    <tr style=\"text-align: right;\">\n      <th></th>\n      <th>tweets</th>\n      <th>labels</th>\n      <th>num_labels</th>\n    </tr>\n  </thead>\n  <tbody>\n    <tr>\n      <th>3292</th>\n      <td>I just spoke in #Esperanto with #ChatGPT :D ht...</td>\n      <td>bad</td>\n      <td>2</td>\n    </tr>\n    <tr>\n      <th>4533</th>\n      <td>1/ @OpenAI's ChatGPT + @__UBERDUCK__  + my lac...</td>\n      <td>neutral</td>\n      <td>0</td>\n    </tr>\n    <tr>\n      <th>4631</th>\n      <td>ChatGPT is interesting but I am curious when a...</td>\n      <td>good</td>\n      <td>1</td>\n    </tr>\n    <tr>\n      <th>2200</th>\n      <td>ChatGPT is an amazing achievement but it won't...</td>\n      <td>good</td>\n      <td>1</td>\n    </tr>\n    <tr>\n      <th>2482</th>\n      <td>Wow! #ChatGPT can learn some pretty nifty tric...</td>\n      <td>good</td>\n      <td>1</td>\n    </tr>\n  </tbody>\n</table>\n</div>"
     },
     "execution_count": 29,
     "metadata": {},
     "output_type": "execute_result"
    }
   ],
   "source": [
    "df_new['num_labels'] = df_new.labels.map({\n",
    "    \"neutral\":0,\n",
    "    \"good\":1,\n",
    "    \"bad\":2\n",
    "})\n",
    "df_new.head()"
   ],
   "metadata": {
    "collapsed": false,
    "ExecuteTime": {
     "end_time": "2023-12-26T15:20:52.401020692Z",
     "start_time": "2023-12-26T15:20:52.351703611Z"
    }
   },
   "id": "d59ac062086054ba",
   "execution_count": 29
  },
  {
   "cell_type": "code",
   "outputs": [
    {
     "data": {
      "text/plain": "                                                   tweets   labels\n0       ChatGPT: Optimizing Language Models for Dialog...  neutral\n1       Try talking with ChatGPT, our new AI system wh...     good\n2       ChatGPT: Optimizing Language Models for Dialog...  neutral\n3       THRILLED to share that ChatGPT, our new model ...     good\n4       As of 2 minutes ago, @OpenAI released their ne...      bad\n...                                                   ...      ...\n219289  Other Software Projects Are Now Trying to Repl...      bad\n219290  I asked #ChatGPT to write a #NYE Joke for SEOs...     good\n219291  chatgpt is being disassembled until it can onl...      bad\n219292  2023 predictions by #chatGPT. Nothing really s...      bad\n219293   From ChatGPT, neat stuff https://t.co/qjjUF2Z2m0  neutral\n\n[217623 rows x 2 columns]",
      "text/html": "<div>\n<style scoped>\n    .dataframe tbody tr th:only-of-type {\n        vertical-align: middle;\n    }\n\n    .dataframe tbody tr th {\n        vertical-align: top;\n    }\n\n    .dataframe thead th {\n        text-align: right;\n    }\n</style>\n<table border=\"1\" class=\"dataframe\">\n  <thead>\n    <tr style=\"text-align: right;\">\n      <th></th>\n      <th>tweets</th>\n      <th>labels</th>\n    </tr>\n  </thead>\n  <tbody>\n    <tr>\n      <th>0</th>\n      <td>ChatGPT: Optimizing Language Models for Dialog...</td>\n      <td>neutral</td>\n    </tr>\n    <tr>\n      <th>1</th>\n      <td>Try talking with ChatGPT, our new AI system wh...</td>\n      <td>good</td>\n    </tr>\n    <tr>\n      <th>2</th>\n      <td>ChatGPT: Optimizing Language Models for Dialog...</td>\n      <td>neutral</td>\n    </tr>\n    <tr>\n      <th>3</th>\n      <td>THRILLED to share that ChatGPT, our new model ...</td>\n      <td>good</td>\n    </tr>\n    <tr>\n      <th>4</th>\n      <td>As of 2 minutes ago, @OpenAI released their ne...</td>\n      <td>bad</td>\n    </tr>\n    <tr>\n      <th>...</th>\n      <td>...</td>\n      <td>...</td>\n    </tr>\n    <tr>\n      <th>219289</th>\n      <td>Other Software Projects Are Now Trying to Repl...</td>\n      <td>bad</td>\n    </tr>\n    <tr>\n      <th>219290</th>\n      <td>I asked #ChatGPT to write a #NYE Joke for SEOs...</td>\n      <td>good</td>\n    </tr>\n    <tr>\n      <th>219291</th>\n      <td>chatgpt is being disassembled until it can onl...</td>\n      <td>bad</td>\n    </tr>\n    <tr>\n      <th>219292</th>\n      <td>2023 predictions by #chatGPT. Nothing really s...</td>\n      <td>bad</td>\n    </tr>\n    <tr>\n      <th>219293</th>\n      <td>From ChatGPT, neat stuff https://t.co/qjjUF2Z2m0</td>\n      <td>neutral</td>\n    </tr>\n  </tbody>\n</table>\n<p>217623 rows × 2 columns</p>\n</div>"
     },
     "execution_count": 30,
     "metadata": {},
     "output_type": "execute_result"
    },
    {
     "data": {
      "text/plain": "\u001B[3m                                                                                                           \u001B[0m\n\u001B[3m                                       Total time elapsed: 3649.637 seconds                                \u001B[0m\n\u001B[3m                                       3 GPU function calls in 0.086 seconds                               \u001B[0m\n\u001B[3m                                     2 CPU function calls in 3649.154 seconds                              \u001B[0m\n\u001B[3m                                                                                                           \u001B[0m\n\u001B[3m                                                       Stats                                               \u001B[0m\n\u001B[3m                                                                                                           \u001B[0m\n┏━━━━━━━━━━━━━━━━━━━━━━━┳━━━━━━━━━━━━┳━━━━━━━━━━━━━┳━━━━━━━━━━━━━┳━━━━━━━━━━━━┳━━━━━━━━━━━━━┳━━━━━━━━━━━━━┓\n┃\u001B[1m \u001B[0m\u001B[1mFunction             \u001B[0m\u001B[1m \u001B[0m┃\u001B[1m \u001B[0m\u001B[1mGPU ncalls\u001B[0m\u001B[1m \u001B[0m┃\u001B[1m \u001B[0m\u001B[1mGPU cumtime\u001B[0m\u001B[1m \u001B[0m┃\u001B[1m \u001B[0m\u001B[1mGPU percall\u001B[0m\u001B[1m \u001B[0m┃\u001B[1m \u001B[0m\u001B[1mCPU ncalls\u001B[0m\u001B[1m \u001B[0m┃\u001B[1m \u001B[0m\u001B[1mCPU cumtime\u001B[0m\u001B[1m \u001B[0m┃\u001B[1m \u001B[0m\u001B[1mCPU percall\u001B[0m\u001B[1m \u001B[0m┃\n┡━━━━━━━━━━━━━━━━━━━━━━━╇━━━━━━━━━━━━╇━━━━━━━━━━━━━╇━━━━━━━━━━━━━╇━━━━━━━━━━━━╇━━━━━━━━━━━━━╇━━━━━━━━━━━━━┩\n│ DataFrame.__getitem__ │ 1          │ 0.001       │ 0.001       │ 0          │ 0.000       │ 0.000       │\n│ Series.apply          │ 0          │ 0.000       │ 0.000       │ 1          │ 3649.012    │ 3649.012    │\n│ DataFrame.__setitem__ │ 0          │ 0.000       │ 0.000       │ 1          │ 0.142       │ 0.142       │\n│ DataFrame             │ 1          │ 0.000       │ 0.000       │ 0          │ 0.000       │ 0.000       │\n│ DataFrame.__repr__    │ 1          │ 0.086       │ 0.086       │ 0          │ 0.000       │ 0.000       │\n└───────────────────────┴────────────┴─────────────┴─────────────┴────────────┴─────────────┴─────────────┘\n",
      "text/html": "<pre style=\"white-space:pre;overflow-x:auto;line-height:normal;font-family:Menlo,'DejaVu Sans Mono',consolas,'Courier New',monospace\"><span style=\"font-style: italic\">                                                                                                           </span>\n<span style=\"font-style: italic\">                                       Total time elapsed: 3649.637 seconds                                </span>\n<span style=\"font-style: italic\">                                       3 GPU function calls in 0.086 seconds                               </span>\n<span style=\"font-style: italic\">                                     2 CPU function calls in 3649.154 seconds                              </span>\n<span style=\"font-style: italic\">                                                                                                           </span>\n<span style=\"font-style: italic\">                                                       Stats                                               </span>\n<span style=\"font-style: italic\">                                                                                                           </span>\n┏━━━━━━━━━━━━━━━━━━━━━━━┳━━━━━━━━━━━━┳━━━━━━━━━━━━━┳━━━━━━━━━━━━━┳━━━━━━━━━━━━┳━━━━━━━━━━━━━┳━━━━━━━━━━━━━┓\n┃<span style=\"font-weight: bold\"> Function              </span>┃<span style=\"font-weight: bold\"> GPU ncalls </span>┃<span style=\"font-weight: bold\"> GPU cumtime </span>┃<span style=\"font-weight: bold\"> GPU percall </span>┃<span style=\"font-weight: bold\"> CPU ncalls </span>┃<span style=\"font-weight: bold\"> CPU cumtime </span>┃<span style=\"font-weight: bold\"> CPU percall </span>┃\n┡━━━━━━━━━━━━━━━━━━━━━━━╇━━━━━━━━━━━━╇━━━━━━━━━━━━━╇━━━━━━━━━━━━━╇━━━━━━━━━━━━╇━━━━━━━━━━━━━╇━━━━━━━━━━━━━┩\n│ DataFrame.__getitem__ │ 1          │ 0.001       │ 0.001       │ 0          │ 0.000       │ 0.000       │\n│ Series.apply          │ 0          │ 0.000       │ 0.000       │ 1          │ 3649.012    │ 3649.012    │\n│ DataFrame.__setitem__ │ 0          │ 0.000       │ 0.000       │ 1          │ 0.142       │ 0.142       │\n│ DataFrame             │ 1          │ 0.000       │ 0.000       │ 0          │ 0.000       │ 0.000       │\n│ DataFrame.__repr__    │ 1          │ 0.086       │ 0.086       │ 0          │ 0.000       │ 0.000       │\n└───────────────────────┴────────────┴─────────────┴─────────────┴────────────┴─────────────┴─────────────┘\n</pre>\n"
     },
     "metadata": {},
     "output_type": "display_data"
    },
    {
     "data": {
      "text/plain": "Not all pandas operations ran on the GPU. The following functions required CPU fallback:\n\n- Series.apply\n- DataFrame.__setitem__\n\n",
      "text/html": "<pre style=\"white-space:pre;overflow-x:auto;line-height:normal;font-family:Menlo,'DejaVu Sans Mono',consolas,'Courier New',monospace\">Not all pandas operations ran on the GPU. The following functions required CPU fallback:\n\n- Series.apply\n- DataFrame.__setitem__\n\n</pre>\n"
     },
     "metadata": {},
     "output_type": "display_data"
    },
    {
     "data": {
      "text/plain": "To request GPU support for any of these functions, please file a Github issue here: \n\u001B]8;id=721365;https://github.com/rapidsai/cudf/issues/new?assignees=&labels=%3F+-+Needs+Triage%2C+feature+request&projects=&template=pandas_function_request.md&title=%5BFEA%5D\u001B\\\u001B[4;94mhttps://github.com/rapidsai/cudf/issues/new/choose\u001B[0m\u001B]8;;\u001B\\\u001B[4;94m.\u001B[0m\n",
      "text/html": "<pre style=\"white-space:pre;overflow-x:auto;line-height:normal;font-family:Menlo,'DejaVu Sans Mono',consolas,'Courier New',monospace\">To request GPU support for any of these functions, please file a Github issue here: \n<a href=\"https://github.com/rapidsai/cudf/issues/new?assignees=&labels=%3F+-+Needs+Triage%2C+feature+request&projects=&template=pandas_function_request.md&title=%5BFEA%5D\" target=\"_blank\"><span style=\"color: #0000ff; text-decoration-color: #0000ff; text-decoration: underline\">https://github.com/rapidsai/cudf/issues/new/choose</span></a><span style=\"color: #0000ff; text-decoration-color: #0000ff; text-decoration: underline\">.</span>\n</pre>\n"
     },
     "metadata": {},
     "output_type": "display_data"
    }
   ],
   "source": [
    "%%cudf.pandas.profile\n",
    "\n",
    "df_new['processed_tweets'] = df['tweets'].apply(preprocess)"
   ],
   "metadata": {
    "collapsed": false,
    "ExecuteTime": {
     "end_time": "2023-12-26T16:23:30.985642516Z",
     "start_time": "2023-12-26T15:22:41.321142068Z"
    }
   },
   "id": "153f8e9414b0feb6",
   "execution_count": 30
  },
  {
   "cell_type": "code",
   "outputs": [
    {
     "data": {
      "text/plain": "                                                 tweets   labels  num_labels  \\\n3292  I just spoke in #Esperanto with #ChatGPT :D ht...      bad           2   \n4533  1/ @OpenAI's ChatGPT + @__UBERDUCK__  + my lac...  neutral           0   \n4631  ChatGPT is interesting but I am curious when a...     good           1   \n2200  ChatGPT is an amazing achievement but it won't...     good           1   \n2482  Wow! #ChatGPT can learn some pretty nifty tric...     good           1   \n...                                                 ...      ...         ...   \n644   Looks like the Cavemen put #chatGPT through a ...     good           1   \n4456  Bro HHHHHHHHHHHHHH\\nthis #ChatGPT is just amaz...     good           1   \n4295  I copied a pasted a math problem from https://...      bad           2   \n3130  chatGPT writes better code than half the profs...  neutral           0   \n1969  ME: ChatGPT, How to grow the audience on Twitt...      bad           2   \n\n                                       processed_tweets  \n3292                                    chatgpt like fr  \n4533  ask ChatGPT AI write movie plot Rob Schneider ...  \n4631                             chatgpt actually crazy  \n2200  Zouk Partners PeTA India Unveils Vegan Creator...  \n2482  chatgpt amazing complaint amazing.\\n\\nevery ti...  \n...                                                 ...  \n644   clear chatgpt language model text synthesis ma...  \n4456  \\n\\ni see experience remotely shocking chatgpt...  \n4295  Elon Musk twitter completely ChatGPT getting r...  \n3130  cursory look pretty impressed chatgpt ability ...  \n1969      good know AI overlord figure wordplay chatgpt  \n\n[15000 rows x 4 columns]",
      "text/html": "<div>\n<style scoped>\n    .dataframe tbody tr th:only-of-type {\n        vertical-align: middle;\n    }\n\n    .dataframe tbody tr th {\n        vertical-align: top;\n    }\n\n    .dataframe thead th {\n        text-align: right;\n    }\n</style>\n<table border=\"1\" class=\"dataframe\">\n  <thead>\n    <tr style=\"text-align: right;\">\n      <th></th>\n      <th>tweets</th>\n      <th>labels</th>\n      <th>num_labels</th>\n      <th>processed_tweets</th>\n    </tr>\n  </thead>\n  <tbody>\n    <tr>\n      <th>3292</th>\n      <td>I just spoke in #Esperanto with #ChatGPT :D ht...</td>\n      <td>bad</td>\n      <td>2</td>\n      <td>chatgpt like fr</td>\n    </tr>\n    <tr>\n      <th>4533</th>\n      <td>1/ @OpenAI's ChatGPT + @__UBERDUCK__  + my lac...</td>\n      <td>neutral</td>\n      <td>0</td>\n      <td>ask ChatGPT AI write movie plot Rob Schneider ...</td>\n    </tr>\n    <tr>\n      <th>4631</th>\n      <td>ChatGPT is interesting but I am curious when a...</td>\n      <td>good</td>\n      <td>1</td>\n      <td>chatgpt actually crazy</td>\n    </tr>\n    <tr>\n      <th>2200</th>\n      <td>ChatGPT is an amazing achievement but it won't...</td>\n      <td>good</td>\n      <td>1</td>\n      <td>Zouk Partners PeTA India Unveils Vegan Creator...</td>\n    </tr>\n    <tr>\n      <th>2482</th>\n      <td>Wow! #ChatGPT can learn some pretty nifty tric...</td>\n      <td>good</td>\n      <td>1</td>\n      <td>chatgpt amazing complaint amazing.\\n\\nevery ti...</td>\n    </tr>\n    <tr>\n      <th>...</th>\n      <td>...</td>\n      <td>...</td>\n      <td>...</td>\n      <td>...</td>\n    </tr>\n    <tr>\n      <th>644</th>\n      <td>Looks like the Cavemen put #chatGPT through a ...</td>\n      <td>good</td>\n      <td>1</td>\n      <td>clear chatgpt language model text synthesis ma...</td>\n    </tr>\n    <tr>\n      <th>4456</th>\n      <td>Bro HHHHHHHHHHHHHH\\nthis #ChatGPT is just amaz...</td>\n      <td>good</td>\n      <td>1</td>\n      <td>\\n\\ni see experience remotely shocking chatgpt...</td>\n    </tr>\n    <tr>\n      <th>4295</th>\n      <td>I copied a pasted a math problem from https://...</td>\n      <td>bad</td>\n      <td>2</td>\n      <td>Elon Musk twitter completely ChatGPT getting r...</td>\n    </tr>\n    <tr>\n      <th>3130</th>\n      <td>chatGPT writes better code than half the profs...</td>\n      <td>neutral</td>\n      <td>0</td>\n      <td>cursory look pretty impressed chatgpt ability ...</td>\n    </tr>\n    <tr>\n      <th>1969</th>\n      <td>ME: ChatGPT, How to grow the audience on Twitt...</td>\n      <td>bad</td>\n      <td>2</td>\n      <td>good know AI overlord figure wordplay chatgpt</td>\n    </tr>\n  </tbody>\n</table>\n<p>15000 rows × 4 columns</p>\n</div>"
     },
     "execution_count": 31,
     "metadata": {},
     "output_type": "execute_result"
    }
   ],
   "source": [
    "df_new"
   ],
   "metadata": {
    "collapsed": false,
    "ExecuteTime": {
     "end_time": "2023-12-26T16:26:47.774055010Z",
     "start_time": "2023-12-26T16:26:47.726560918Z"
    }
   },
   "id": "fe760c3d140507d1",
   "execution_count": 31
  },
  {
   "cell_type": "code",
   "outputs": [],
   "source": [
    "df_new.to_csv(\n",
    "    \"processed_file.csv\",\n",
    "    index=False\n",
    ")"
   ],
   "metadata": {
    "collapsed": false,
    "ExecuteTime": {
     "end_time": "2023-12-26T16:32:21.687063672Z",
     "start_time": "2023-12-26T16:32:21.624404510Z"
    }
   },
   "id": "a22ad91232f4ce11",
   "execution_count": 32
  }
 ],
 "metadata": {
  "kernelspec": {
   "display_name": "Python 3",
   "language": "python",
   "name": "python3"
  },
  "language_info": {
   "codemirror_mode": {
    "name": "ipython",
    "version": 2
   },
   "file_extension": ".py",
   "mimetype": "text/x-python",
   "name": "python",
   "nbconvert_exporter": "python",
   "pygments_lexer": "ipython2",
   "version": "2.7.6"
  }
 },
 "nbformat": 4,
 "nbformat_minor": 5
}
