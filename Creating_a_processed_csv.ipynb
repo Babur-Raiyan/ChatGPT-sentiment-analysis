{
 "cells": [
  {
   "cell_type": "markdown",
   "source": [
    "# Loading Dataset"
   ],
   "metadata": {
    "collapsed": false
   },
   "id": "90c66e62d75dcd7c"
  },
  {
   "cell_type": "code",
   "execution_count": 2,
   "id": "initial_id",
   "metadata": {
    "collapsed": true,
    "ExecuteTime": {
     "end_time": "2023-12-27T06:02:41.654082100Z",
     "start_time": "2023-12-27T06:02:40.354923600Z"
    }
   },
   "outputs": [],
   "source": [
    "import pandas as pd"
   ]
  },
  {
   "cell_type": "code",
   "outputs": [
    {
     "data": {
      "text/plain": "   Unnamed: 0                                             tweets   labels\n0           0  ChatGPT: Optimizing Language Models for Dialog...  neutral\n1           1  Try talking with ChatGPT, our new AI system wh...     good\n2           2  ChatGPT: Optimizing Language Models for Dialog...  neutral\n3           3  THRILLED to share that ChatGPT, our new model ...     good\n4           4  As of 2 minutes ago, @OpenAI released their ne...      bad",
      "text/html": "<div>\n<style scoped>\n    .dataframe tbody tr th:only-of-type {\n        vertical-align: middle;\n    }\n\n    .dataframe tbody tr th {\n        vertical-align: top;\n    }\n\n    .dataframe thead th {\n        text-align: right;\n    }\n</style>\n<table border=\"1\" class=\"dataframe\">\n  <thead>\n    <tr style=\"text-align: right;\">\n      <th></th>\n      <th>Unnamed: 0</th>\n      <th>tweets</th>\n      <th>labels</th>\n    </tr>\n  </thead>\n  <tbody>\n    <tr>\n      <th>0</th>\n      <td>0</td>\n      <td>ChatGPT: Optimizing Language Models for Dialog...</td>\n      <td>neutral</td>\n    </tr>\n    <tr>\n      <th>1</th>\n      <td>1</td>\n      <td>Try talking with ChatGPT, our new AI system wh...</td>\n      <td>good</td>\n    </tr>\n    <tr>\n      <th>2</th>\n      <td>2</td>\n      <td>ChatGPT: Optimizing Language Models for Dialog...</td>\n      <td>neutral</td>\n    </tr>\n    <tr>\n      <th>3</th>\n      <td>3</td>\n      <td>THRILLED to share that ChatGPT, our new model ...</td>\n      <td>good</td>\n    </tr>\n    <tr>\n      <th>4</th>\n      <td>4</td>\n      <td>As of 2 minutes ago, @OpenAI released their ne...</td>\n      <td>bad</td>\n    </tr>\n  </tbody>\n</table>\n</div>"
     },
     "execution_count": 3,
     "metadata": {},
     "output_type": "execute_result"
    }
   ],
   "source": [
    "df = pd.read_csv(\"./dataset_folder/archive/file.csv\")\n",
    "df.head()"
   ],
   "metadata": {
    "collapsed": false,
    "ExecuteTime": {
     "end_time": "2023-12-27T06:02:44.077138200Z",
     "start_time": "2023-12-27T06:02:43.122668800Z"
    }
   },
   "id": "7784ee11ab3e1477",
   "execution_count": 3
  },
  {
   "cell_type": "markdown",
   "source": [
    "## Drop Unnecessary columns"
   ],
   "metadata": {
    "collapsed": false
   },
   "id": "333d72cab812a870"
  },
  {
   "cell_type": "code",
   "outputs": [
    {
     "data": {
      "text/plain": "                                              tweets   labels\n0  ChatGPT: Optimizing Language Models for Dialog...  neutral\n1  Try talking with ChatGPT, our new AI system wh...     good\n2  ChatGPT: Optimizing Language Models for Dialog...  neutral\n3  THRILLED to share that ChatGPT, our new model ...     good\n4  As of 2 minutes ago, @OpenAI released their ne...      bad",
      "text/html": "<div>\n<style scoped>\n    .dataframe tbody tr th:only-of-type {\n        vertical-align: middle;\n    }\n\n    .dataframe tbody tr th {\n        vertical-align: top;\n    }\n\n    .dataframe thead th {\n        text-align: right;\n    }\n</style>\n<table border=\"1\" class=\"dataframe\">\n  <thead>\n    <tr style=\"text-align: right;\">\n      <th></th>\n      <th>tweets</th>\n      <th>labels</th>\n    </tr>\n  </thead>\n  <tbody>\n    <tr>\n      <th>0</th>\n      <td>ChatGPT: Optimizing Language Models for Dialog...</td>\n      <td>neutral</td>\n    </tr>\n    <tr>\n      <th>1</th>\n      <td>Try talking with ChatGPT, our new AI system wh...</td>\n      <td>good</td>\n    </tr>\n    <tr>\n      <th>2</th>\n      <td>ChatGPT: Optimizing Language Models for Dialog...</td>\n      <td>neutral</td>\n    </tr>\n    <tr>\n      <th>3</th>\n      <td>THRILLED to share that ChatGPT, our new model ...</td>\n      <td>good</td>\n    </tr>\n    <tr>\n      <th>4</th>\n      <td>As of 2 minutes ago, @OpenAI released their ne...</td>\n      <td>bad</td>\n    </tr>\n  </tbody>\n</table>\n</div>"
     },
     "execution_count": 4,
     "metadata": {},
     "output_type": "execute_result"
    }
   ],
   "source": [
    "df = df.drop(columns=['Unnamed: 0'])\n",
    "df.head()"
   ],
   "metadata": {
    "collapsed": false,
    "ExecuteTime": {
     "end_time": "2023-12-27T06:03:22.235248600Z",
     "start_time": "2023-12-27T06:03:22.219631400Z"
    }
   },
   "id": "4d8111879022760d",
   "execution_count": 4
  },
  {
   "cell_type": "markdown",
   "source": [
    "## Data-wrangling\n",
    "- Clearing __null value__ records\n",
    "- Deleting __duplicate__ records"
   ],
   "metadata": {
    "collapsed": false
   },
   "id": "c20091de5bdcc956"
  },
  {
   "cell_type": "code",
   "outputs": [
    {
     "data": {
      "text/plain": "tweets    0\nlabels    0\ndtype: int64"
     },
     "execution_count": 5,
     "metadata": {},
     "output_type": "execute_result"
    }
   ],
   "source": [
    "df.isna().sum()"
   ],
   "metadata": {
    "collapsed": false,
    "ExecuteTime": {
     "end_time": "2023-12-27T06:03:25.026285800Z",
     "start_time": "2023-12-27T06:03:24.983462400Z"
    }
   },
   "id": "86a7b1d904232edb",
   "execution_count": 5
  },
  {
   "cell_type": "code",
   "outputs": [
    {
     "data": {
      "text/plain": "1671"
     },
     "execution_count": 6,
     "metadata": {},
     "output_type": "execute_result"
    }
   ],
   "source": [
    "df.duplicated().sum()"
   ],
   "metadata": {
    "collapsed": false,
    "ExecuteTime": {
     "end_time": "2023-12-27T06:03:27.967228600Z",
     "start_time": "2023-12-27T06:03:27.784103400Z"
    }
   },
   "id": "2c992d439dd12101",
   "execution_count": 6
  },
  {
   "cell_type": "code",
   "outputs": [],
   "source": [
    "df = df.drop_duplicates()"
   ],
   "metadata": {
    "collapsed": false,
    "ExecuteTime": {
     "end_time": "2023-12-27T06:03:32.148501Z",
     "start_time": "2023-12-27T06:03:31.999761400Z"
    }
   },
   "id": "258324cb5576fe86",
   "execution_count": 7
  },
  {
   "cell_type": "markdown",
   "source": [
    "## Creating a sub dataframe for testing purpose\n",
    "Reason: main dataframe is too large. If this sub dataframe performs great, no need for full dataframe\n",
    "- taking 5000 samples from each category\n",
    "- Creates a sample that has **15000** total tweets"
   ],
   "metadata": {
    "collapsed": false
   },
   "id": "76ac261bf1430d06"
  },
  {
   "cell_type": "markdown",
   "source": [
    "### label=good dataframe"
   ],
   "metadata": {
    "collapsed": false
   },
   "id": "cf14273db9cbeec8"
  },
  {
   "cell_type": "code",
   "outputs": [
    {
     "data": {
      "text/plain": "                                                 tweets labels\n0     #artificialintelligence #ChatGPT Amazing but F...   good\n1     Even though I know it's not the first, and pro...   good\n2     Fast Company: The internet loves ChatGPT, but ...   good\n3     RT @jameselder@tweetrex.co.uk\\nOh my God.\\n\\nI...   good\n4     I may be late to the party, but I am seriously...   good\n...                                                 ...    ...\n4995  Happy New Year! May all my wildest dreams come...   good\n4996  Holymoly.... ChatGPT has gone fast with replie...   good\n4997  dear chatGPT please write me a script that mak...   good\n4998  I’ve spent more hours this week talking to an ...   good\n4999  ChatGPT passes the 2022 AP Computer Science A ...   good\n\n[5000 rows x 2 columns]",
      "text/html": "<div>\n<style scoped>\n    .dataframe tbody tr th:only-of-type {\n        vertical-align: middle;\n    }\n\n    .dataframe tbody tr th {\n        vertical-align: top;\n    }\n\n    .dataframe thead th {\n        text-align: right;\n    }\n</style>\n<table border=\"1\" class=\"dataframe\">\n  <thead>\n    <tr style=\"text-align: right;\">\n      <th></th>\n      <th>tweets</th>\n      <th>labels</th>\n    </tr>\n  </thead>\n  <tbody>\n    <tr>\n      <th>0</th>\n      <td>#artificialintelligence #ChatGPT Amazing but F...</td>\n      <td>good</td>\n    </tr>\n    <tr>\n      <th>1</th>\n      <td>Even though I know it's not the first, and pro...</td>\n      <td>good</td>\n    </tr>\n    <tr>\n      <th>2</th>\n      <td>Fast Company: The internet loves ChatGPT, but ...</td>\n      <td>good</td>\n    </tr>\n    <tr>\n      <th>3</th>\n      <td>RT @jameselder@tweetrex.co.uk\\nOh my God.\\n\\nI...</td>\n      <td>good</td>\n    </tr>\n    <tr>\n      <th>4</th>\n      <td>I may be late to the party, but I am seriously...</td>\n      <td>good</td>\n    </tr>\n    <tr>\n      <th>...</th>\n      <td>...</td>\n      <td>...</td>\n    </tr>\n    <tr>\n      <th>4995</th>\n      <td>Happy New Year! May all my wildest dreams come...</td>\n      <td>good</td>\n    </tr>\n    <tr>\n      <th>4996</th>\n      <td>Holymoly.... ChatGPT has gone fast with replie...</td>\n      <td>good</td>\n    </tr>\n    <tr>\n      <th>4997</th>\n      <td>dear chatGPT please write me a script that mak...</td>\n      <td>good</td>\n    </tr>\n    <tr>\n      <th>4998</th>\n      <td>I’ve spent more hours this week talking to an ...</td>\n      <td>good</td>\n    </tr>\n    <tr>\n      <th>4999</th>\n      <td>ChatGPT passes the 2022 AP Computer Science A ...</td>\n      <td>good</td>\n    </tr>\n  </tbody>\n</table>\n<p>5000 rows × 2 columns</p>\n</div>"
     },
     "execution_count": 31,
     "metadata": {},
     "output_type": "execute_result"
    }
   ],
   "source": [
    "df_good = df[df.labels == \"good\"].sample(\n",
    "    n=5000,\n",
    "    replace=False,\n",
    "    ignore_index=True,\n",
    "    random_state=0\n",
    ")\n",
    "df_good"
   ],
   "metadata": {
    "collapsed": false,
    "ExecuteTime": {
     "end_time": "2023-12-27T06:46:57.294538800Z",
     "start_time": "2023-12-27T06:46:57.259572900Z"
    }
   },
   "id": "3ad7fb39113bdf0a",
   "execution_count": 31
  },
  {
   "cell_type": "markdown",
   "source": [
    "### label=bad dataframe"
   ],
   "metadata": {
    "collapsed": false
   },
   "id": "8e946b85147c71cf"
  },
  {
   "cell_type": "code",
   "outputs": [
    {
     "data": {
      "text/plain": "                                                 tweets labels\n0     Deconstructing ChatGPT on the Future of Contin...    bad\n1                Has anyone ported Doom to ChatGPT yet?    bad\n2     Yet #ChatGPT has given me multiple incorrect d...    bad\n3     Generative AI is progressing furiously—and edu...    bad\n4     ⚗️ChatGPT Most Extraordinary Tweets\\n#ChatGPT ...    bad\n...                                                 ...    ...\n4995  Building an interpreter for my programming lan...    bad\n4996  I asked ChatGPT to draft a letter to me compla...    bad\n4997  YouTube Summary with ChatGPT / Glasp #Startup ...    bad\n4998  #ChatGPT is CHADGPT for me. \\n\\nIt will be my ...    bad\n4999  Tell HN: Tired of Hearing about ChatGPT https:...    bad\n\n[5000 rows x 2 columns]",
      "text/html": "<div>\n<style scoped>\n    .dataframe tbody tr th:only-of-type {\n        vertical-align: middle;\n    }\n\n    .dataframe tbody tr th {\n        vertical-align: top;\n    }\n\n    .dataframe thead th {\n        text-align: right;\n    }\n</style>\n<table border=\"1\" class=\"dataframe\">\n  <thead>\n    <tr style=\"text-align: right;\">\n      <th></th>\n      <th>tweets</th>\n      <th>labels</th>\n    </tr>\n  </thead>\n  <tbody>\n    <tr>\n      <th>0</th>\n      <td>Deconstructing ChatGPT on the Future of Contin...</td>\n      <td>bad</td>\n    </tr>\n    <tr>\n      <th>1</th>\n      <td>Has anyone ported Doom to ChatGPT yet?</td>\n      <td>bad</td>\n    </tr>\n    <tr>\n      <th>2</th>\n      <td>Yet #ChatGPT has given me multiple incorrect d...</td>\n      <td>bad</td>\n    </tr>\n    <tr>\n      <th>3</th>\n      <td>Generative AI is progressing furiously—and edu...</td>\n      <td>bad</td>\n    </tr>\n    <tr>\n      <th>4</th>\n      <td>⚗️ChatGPT Most Extraordinary Tweets\\n#ChatGPT ...</td>\n      <td>bad</td>\n    </tr>\n    <tr>\n      <th>...</th>\n      <td>...</td>\n      <td>...</td>\n    </tr>\n    <tr>\n      <th>4995</th>\n      <td>Building an interpreter for my programming lan...</td>\n      <td>bad</td>\n    </tr>\n    <tr>\n      <th>4996</th>\n      <td>I asked ChatGPT to draft a letter to me compla...</td>\n      <td>bad</td>\n    </tr>\n    <tr>\n      <th>4997</th>\n      <td>YouTube Summary with ChatGPT / Glasp #Startup ...</td>\n      <td>bad</td>\n    </tr>\n    <tr>\n      <th>4998</th>\n      <td>#ChatGPT is CHADGPT for me. \\n\\nIt will be my ...</td>\n      <td>bad</td>\n    </tr>\n    <tr>\n      <th>4999</th>\n      <td>Tell HN: Tired of Hearing about ChatGPT https:...</td>\n      <td>bad</td>\n    </tr>\n  </tbody>\n</table>\n<p>5000 rows × 2 columns</p>\n</div>"
     },
     "execution_count": 32,
     "metadata": {},
     "output_type": "execute_result"
    }
   ],
   "source": [
    "df_bad = df[df.labels == \"bad\"].sample(\n",
    "    n=5000,\n",
    "    replace=False,\n",
    "    ignore_index=True,\n",
    "    random_state=0\n",
    ")\n",
    "df_bad"
   ],
   "metadata": {
    "collapsed": false,
    "ExecuteTime": {
     "end_time": "2023-12-27T06:47:00.896653800Z",
     "start_time": "2023-12-27T06:47:00.852906600Z"
    }
   },
   "id": "7d12fd5db837d1af",
   "execution_count": 32
  },
  {
   "cell_type": "markdown",
   "source": [
    "### label=neutral dataframe"
   ],
   "metadata": {
    "collapsed": false
   },
   "id": "bb8cff18b6841e99"
  },
  {
   "cell_type": "code",
   "outputs": [
    {
     "data": {
      "text/plain": "                                                 tweets   labels\n0     We're going to look back years from now and se...  neutral\n1     Prompt-engineered artwork via stable-diffusion...  neutral\n2     Google Introduces ChatGPT-like ChatBot for Hea...  neutral\n3     The Brilliance and Weirdness of ChatGPT\\n\\n#Op...  neutral\n4     Another interesting result from ChatGPT: https...  neutral\n...                                                 ...      ...\n4995  Interesting: it seems ChatGPT has been neutere...  neutral\n4996  A lot of people in tech, and most people outsi...  neutral\n4997  Okay sure ChatGPT can *code*, but can it atten...  neutral\n4998  Q: \"How many genders are there?\"\\n\\n#ChatGPT: ...  neutral\n4999  Really good post on what ChatGPT is and how it...  neutral\n\n[5000 rows x 2 columns]",
      "text/html": "<div>\n<style scoped>\n    .dataframe tbody tr th:only-of-type {\n        vertical-align: middle;\n    }\n\n    .dataframe tbody tr th {\n        vertical-align: top;\n    }\n\n    .dataframe thead th {\n        text-align: right;\n    }\n</style>\n<table border=\"1\" class=\"dataframe\">\n  <thead>\n    <tr style=\"text-align: right;\">\n      <th></th>\n      <th>tweets</th>\n      <th>labels</th>\n    </tr>\n  </thead>\n  <tbody>\n    <tr>\n      <th>0</th>\n      <td>We're going to look back years from now and se...</td>\n      <td>neutral</td>\n    </tr>\n    <tr>\n      <th>1</th>\n      <td>Prompt-engineered artwork via stable-diffusion...</td>\n      <td>neutral</td>\n    </tr>\n    <tr>\n      <th>2</th>\n      <td>Google Introduces ChatGPT-like ChatBot for Hea...</td>\n      <td>neutral</td>\n    </tr>\n    <tr>\n      <th>3</th>\n      <td>The Brilliance and Weirdness of ChatGPT\\n\\n#Op...</td>\n      <td>neutral</td>\n    </tr>\n    <tr>\n      <th>4</th>\n      <td>Another interesting result from ChatGPT: https...</td>\n      <td>neutral</td>\n    </tr>\n    <tr>\n      <th>...</th>\n      <td>...</td>\n      <td>...</td>\n    </tr>\n    <tr>\n      <th>4995</th>\n      <td>Interesting: it seems ChatGPT has been neutere...</td>\n      <td>neutral</td>\n    </tr>\n    <tr>\n      <th>4996</th>\n      <td>A lot of people in tech, and most people outsi...</td>\n      <td>neutral</td>\n    </tr>\n    <tr>\n      <th>4997</th>\n      <td>Okay sure ChatGPT can *code*, but can it atten...</td>\n      <td>neutral</td>\n    </tr>\n    <tr>\n      <th>4998</th>\n      <td>Q: \"How many genders are there?\"\\n\\n#ChatGPT: ...</td>\n      <td>neutral</td>\n    </tr>\n    <tr>\n      <th>4999</th>\n      <td>Really good post on what ChatGPT is and how it...</td>\n      <td>neutral</td>\n    </tr>\n  </tbody>\n</table>\n<p>5000 rows × 2 columns</p>\n</div>"
     },
     "execution_count": 33,
     "metadata": {},
     "output_type": "execute_result"
    }
   ],
   "source": [
    "df_neutral = df[df.labels == \"neutral\"].sample(\n",
    "    n=5000,\n",
    "    replace=False,\n",
    "    ignore_index=True,\n",
    "    random_state=0\n",
    ")\n",
    "df_neutral"
   ],
   "metadata": {
    "collapsed": false,
    "ExecuteTime": {
     "end_time": "2023-12-27T06:47:04.052600800Z",
     "start_time": "2023-12-27T06:47:04.016653200Z"
    }
   },
   "id": "b6262ba86b4f5ccb",
   "execution_count": 33
  },
  {
   "cell_type": "markdown",
   "source": [
    "### Concatenating the 3 (good, bad, neutral) datframes"
   ],
   "metadata": {
    "collapsed": false
   },
   "id": "ad86ad7bd2125a33"
  },
  {
   "cell_type": "code",
   "outputs": [
    {
     "data": {
      "text/plain": "                                                  tweets   labels\n0      My first hand experience and how I took benefi...     good\n1      chatGPT by @OpenAI is awesome and scary at the...  neutral\n2      ChatGPT solves (or will) the two biggest issue...  neutral\n3      Massive datasets are important for LLMs like #...     good\n4      ChatGPT is redpilled on the fed https://t.co/b...      bad\n...                                                  ...      ...\n14995  new date idea: getting dinner then generating ...  neutral\n14996  Fun Fact: This entire tweet was generated by C...     good\n14997  During Web3 craze what was weird is how non-te...      bad\n14998                              ChatGpt bot is cool 😇  neutral\n14999  God.  @OpenAI #ChatGPT is overloaded.  Feels l...     good\n\n[15000 rows x 2 columns]",
      "text/html": "<div>\n<style scoped>\n    .dataframe tbody tr th:only-of-type {\n        vertical-align: middle;\n    }\n\n    .dataframe tbody tr th {\n        vertical-align: top;\n    }\n\n    .dataframe thead th {\n        text-align: right;\n    }\n</style>\n<table border=\"1\" class=\"dataframe\">\n  <thead>\n    <tr style=\"text-align: right;\">\n      <th></th>\n      <th>tweets</th>\n      <th>labels</th>\n    </tr>\n  </thead>\n  <tbody>\n    <tr>\n      <th>0</th>\n      <td>My first hand experience and how I took benefi...</td>\n      <td>good</td>\n    </tr>\n    <tr>\n      <th>1</th>\n      <td>chatGPT by @OpenAI is awesome and scary at the...</td>\n      <td>neutral</td>\n    </tr>\n    <tr>\n      <th>2</th>\n      <td>ChatGPT solves (or will) the two biggest issue...</td>\n      <td>neutral</td>\n    </tr>\n    <tr>\n      <th>3</th>\n      <td>Massive datasets are important for LLMs like #...</td>\n      <td>good</td>\n    </tr>\n    <tr>\n      <th>4</th>\n      <td>ChatGPT is redpilled on the fed https://t.co/b...</td>\n      <td>bad</td>\n    </tr>\n    <tr>\n      <th>...</th>\n      <td>...</td>\n      <td>...</td>\n    </tr>\n    <tr>\n      <th>14995</th>\n      <td>new date idea: getting dinner then generating ...</td>\n      <td>neutral</td>\n    </tr>\n    <tr>\n      <th>14996</th>\n      <td>Fun Fact: This entire tweet was generated by C...</td>\n      <td>good</td>\n    </tr>\n    <tr>\n      <th>14997</th>\n      <td>During Web3 craze what was weird is how non-te...</td>\n      <td>bad</td>\n    </tr>\n    <tr>\n      <th>14998</th>\n      <td>ChatGpt bot is cool 😇</td>\n      <td>neutral</td>\n    </tr>\n    <tr>\n      <th>14999</th>\n      <td>God.  @OpenAI #ChatGPT is overloaded.  Feels l...</td>\n      <td>good</td>\n    </tr>\n  </tbody>\n</table>\n<p>15000 rows × 2 columns</p>\n</div>"
     },
     "execution_count": 34,
     "metadata": {},
     "output_type": "execute_result"
    }
   ],
   "source": [
    "df_new = pd.concat([df_good, df_bad, df_neutral]).sample(\n",
    "    frac=1,\n",
    "    replace=False,\n",
    "    random_state=0,\n",
    "    ignore_index=True\n",
    ")\n",
    "df_new"
   ],
   "metadata": {
    "collapsed": false,
    "ExecuteTime": {
     "end_time": "2023-12-27T06:47:07.834597900Z",
     "start_time": "2023-12-27T06:47:07.824363Z"
    }
   },
   "id": "419e82d85c1467b1",
   "execution_count": 34
  },
  {
   "cell_type": "code",
   "outputs": [
    {
     "data": {
      "text/plain": "0"
     },
     "execution_count": 13,
     "metadata": {},
     "output_type": "execute_result"
    }
   ],
   "source": [
    "df_new.duplicated().sum()"
   ],
   "metadata": {
    "collapsed": false,
    "ExecuteTime": {
     "end_time": "2023-12-27T06:04:53.386241500Z",
     "start_time": "2023-12-27T06:04:53.371642600Z"
    }
   },
   "id": "7ab732fc41426825",
   "execution_count": 13
  },
  {
   "cell_type": "markdown",
   "source": [
    "# Defining A function for processing the text"
   ],
   "metadata": {
    "collapsed": false
   },
   "id": "8f7a99b09bb36987"
  },
  {
   "cell_type": "code",
   "outputs": [],
   "source": [
    "import spacy\n",
    "import re\n",
    "\n",
    "nlp = spacy.load('en_core_web_sm')\n",
    "\n",
    "\n",
    "def preprocess(text):\n",
    "    \n",
    "    text_without_websites = re.sub(r'https?://\\S+', '', text)\n",
    "    text_without_line_breaks = text_without_websites.replace(r'\\n', ' ')\n",
    "    text = text_without_line_breaks.replace(\"  \", \" \").strip()\n",
    "    \n",
    "    filtered_tokens = []\n",
    "    \n",
    "    for token in nlp(text):\n",
    "        if token.is_punct or token.is_stop:\n",
    "            continue\n",
    "        filtered_tokens.append(token.lemma_)\n",
    "        \n",
    "    return ' '.join(filtered_tokens)"
   ],
   "metadata": {
    "collapsed": false,
    "ExecuteTime": {
     "end_time": "2023-12-27T06:40:27.321628200Z",
     "start_time": "2023-12-27T06:40:26.515630300Z"
    }
   },
   "id": "73eafd10c4308c0a",
   "execution_count": 27
  },
  {
   "cell_type": "code",
   "outputs": [
    {
     "data": {
      "text/plain": "                                              tweets   labels  num_labels\n0  My first hand experience and how I took benefi...     good           1\n1  chatGPT by @OpenAI is awesome and scary at the...  neutral           0\n2  ChatGPT solves (or will) the two biggest issue...  neutral           0\n3  Massive datasets are important for LLMs like #...     good           1\n4  ChatGPT is redpilled on the fed https://t.co/b...      bad           2",
      "text/html": "<div>\n<style scoped>\n    .dataframe tbody tr th:only-of-type {\n        vertical-align: middle;\n    }\n\n    .dataframe tbody tr th {\n        vertical-align: top;\n    }\n\n    .dataframe thead th {\n        text-align: right;\n    }\n</style>\n<table border=\"1\" class=\"dataframe\">\n  <thead>\n    <tr style=\"text-align: right;\">\n      <th></th>\n      <th>tweets</th>\n      <th>labels</th>\n      <th>num_labels</th>\n    </tr>\n  </thead>\n  <tbody>\n    <tr>\n      <th>0</th>\n      <td>My first hand experience and how I took benefi...</td>\n      <td>good</td>\n      <td>1</td>\n    </tr>\n    <tr>\n      <th>1</th>\n      <td>chatGPT by @OpenAI is awesome and scary at the...</td>\n      <td>neutral</td>\n      <td>0</td>\n    </tr>\n    <tr>\n      <th>2</th>\n      <td>ChatGPT solves (or will) the two biggest issue...</td>\n      <td>neutral</td>\n      <td>0</td>\n    </tr>\n    <tr>\n      <th>3</th>\n      <td>Massive datasets are important for LLMs like #...</td>\n      <td>good</td>\n      <td>1</td>\n    </tr>\n    <tr>\n      <th>4</th>\n      <td>ChatGPT is redpilled on the fed https://t.co/b...</td>\n      <td>bad</td>\n      <td>2</td>\n    </tr>\n  </tbody>\n</table>\n</div>"
     },
     "execution_count": 35,
     "metadata": {},
     "output_type": "execute_result"
    }
   ],
   "source": [
    "df_new['num_labels'] = df_new.labels.map({\n",
    "    \"neutral\":0,\n",
    "    \"good\":1,\n",
    "    \"bad\":2\n",
    "})\n",
    "df_new.head()"
   ],
   "metadata": {
    "collapsed": false,
    "ExecuteTime": {
     "end_time": "2023-12-27T06:47:17.386357700Z",
     "start_time": "2023-12-27T06:47:17.369403500Z"
    }
   },
   "id": "d59ac062086054ba",
   "execution_count": 35
  },
  {
   "cell_type": "code",
   "execution_count": 38,
   "outputs": [
    {
     "data": {
      "text/plain": "                                                  tweets   labels  num_labels  \\\n0      My first hand experience and how I took benefi...     good           1   \n1      chatGPT by @OpenAI is awesome and scary at the...  neutral           0   \n2      ChatGPT solves (or will) the two biggest issue...  neutral           0   \n3      Massive datasets are important for LLMs like #...     good           1   \n4      ChatGPT is redpilled on the fed https://t.co/b...      bad           2   \n...                                                  ...      ...         ...   \n14995  new date idea: getting dinner then generating ...  neutral           0   \n14996  Fun Fact: This entire tweet was generated by C...     good           1   \n14997  During Web3 craze what was weird is how non-te...      bad           2   \n14998                              ChatGpt bot is cool 😇  neutral           0   \n14999  God.  @OpenAI #ChatGPT is overloaded.  Feels l...     good           1   \n\n                                        processed_tweets  \n0      hand experience take benefit AI chatgpt3 folk ...  \n1      chatgpt @openai awesome scary time   tool crea...  \n2      ChatGPT solve big issue Stack Overflow 1 begin...  \n3      massive dataset important llm like chatgpt get...  \n4                                   ChatGPT redpille fed  \n...                                                  ...  \n14995  new date idea get dinner generate romantic sto...  \n14996           Fun fact entire tweet generate ChatGPT 😂  \n14997  Web3 craze weird non technical people explain ...  \n14998                                 ChatGpt bot cool 😇  \n14999  God @openai chatgpt overload feel like limb co...  \n\n[15000 rows x 4 columns]",
      "text/html": "<div>\n<style scoped>\n    .dataframe tbody tr th:only-of-type {\n        vertical-align: middle;\n    }\n\n    .dataframe tbody tr th {\n        vertical-align: top;\n    }\n\n    .dataframe thead th {\n        text-align: right;\n    }\n</style>\n<table border=\"1\" class=\"dataframe\">\n  <thead>\n    <tr style=\"text-align: right;\">\n      <th></th>\n      <th>tweets</th>\n      <th>labels</th>\n      <th>num_labels</th>\n      <th>processed_tweets</th>\n    </tr>\n  </thead>\n  <tbody>\n    <tr>\n      <th>0</th>\n      <td>My first hand experience and how I took benefi...</td>\n      <td>good</td>\n      <td>1</td>\n      <td>hand experience take benefit AI chatgpt3 folk ...</td>\n    </tr>\n    <tr>\n      <th>1</th>\n      <td>chatGPT by @OpenAI is awesome and scary at the...</td>\n      <td>neutral</td>\n      <td>0</td>\n      <td>chatgpt @openai awesome scary time   tool crea...</td>\n    </tr>\n    <tr>\n      <th>2</th>\n      <td>ChatGPT solves (or will) the two biggest issue...</td>\n      <td>neutral</td>\n      <td>0</td>\n      <td>ChatGPT solve big issue Stack Overflow 1 begin...</td>\n    </tr>\n    <tr>\n      <th>3</th>\n      <td>Massive datasets are important for LLMs like #...</td>\n      <td>good</td>\n      <td>1</td>\n      <td>massive dataset important llm like chatgpt get...</td>\n    </tr>\n    <tr>\n      <th>4</th>\n      <td>ChatGPT is redpilled on the fed https://t.co/b...</td>\n      <td>bad</td>\n      <td>2</td>\n      <td>ChatGPT redpille fed</td>\n    </tr>\n    <tr>\n      <th>...</th>\n      <td>...</td>\n      <td>...</td>\n      <td>...</td>\n      <td>...</td>\n    </tr>\n    <tr>\n      <th>14995</th>\n      <td>new date idea: getting dinner then generating ...</td>\n      <td>neutral</td>\n      <td>0</td>\n      <td>new date idea get dinner generate romantic sto...</td>\n    </tr>\n    <tr>\n      <th>14996</th>\n      <td>Fun Fact: This entire tweet was generated by C...</td>\n      <td>good</td>\n      <td>1</td>\n      <td>Fun fact entire tweet generate ChatGPT 😂</td>\n    </tr>\n    <tr>\n      <th>14997</th>\n      <td>During Web3 craze what was weird is how non-te...</td>\n      <td>bad</td>\n      <td>2</td>\n      <td>Web3 craze weird non technical people explain ...</td>\n    </tr>\n    <tr>\n      <th>14998</th>\n      <td>ChatGpt bot is cool 😇</td>\n      <td>neutral</td>\n      <td>0</td>\n      <td>ChatGpt bot cool 😇</td>\n    </tr>\n    <tr>\n      <th>14999</th>\n      <td>God.  @OpenAI #ChatGPT is overloaded.  Feels l...</td>\n      <td>good</td>\n      <td>1</td>\n      <td>God @openai chatgpt overload feel like limb co...</td>\n    </tr>\n  </tbody>\n</table>\n<p>15000 rows × 4 columns</p>\n</div>"
     },
     "execution_count": 38,
     "metadata": {},
     "output_type": "execute_result"
    }
   ],
   "source": [
    "df_new['processed_tweets'] = df_new.tweets.apply(preprocess)\n",
    "df_new"
   ],
   "metadata": {
    "collapsed": false,
    "ExecuteTime": {
     "end_time": "2023-12-27T06:54:58.934396400Z",
     "start_time": "2023-12-27T06:52:57.565941800Z"
    }
   },
   "id": "ce02fa21356fe4a6"
  },
  {
   "cell_type": "code",
   "execution_count": 39,
   "outputs": [
    {
     "data": {
      "text/plain": "   num_labels                                   processed_tweets\n0           1  hand experience take benefit AI chatgpt3 folk ...\n1           0  chatgpt @openai awesome scary time   tool crea...\n2           0  ChatGPT solve big issue Stack Overflow 1 begin...\n3           1  massive dataset important llm like chatgpt get...\n4           2                               ChatGPT redpille fed",
      "text/html": "<div>\n<style scoped>\n    .dataframe tbody tr th:only-of-type {\n        vertical-align: middle;\n    }\n\n    .dataframe tbody tr th {\n        vertical-align: top;\n    }\n\n    .dataframe thead th {\n        text-align: right;\n    }\n</style>\n<table border=\"1\" class=\"dataframe\">\n  <thead>\n    <tr style=\"text-align: right;\">\n      <th></th>\n      <th>num_labels</th>\n      <th>processed_tweets</th>\n    </tr>\n  </thead>\n  <tbody>\n    <tr>\n      <th>0</th>\n      <td>1</td>\n      <td>hand experience take benefit AI chatgpt3 folk ...</td>\n    </tr>\n    <tr>\n      <th>1</th>\n      <td>0</td>\n      <td>chatgpt @openai awesome scary time   tool crea...</td>\n    </tr>\n    <tr>\n      <th>2</th>\n      <td>0</td>\n      <td>ChatGPT solve big issue Stack Overflow 1 begin...</td>\n    </tr>\n    <tr>\n      <th>3</th>\n      <td>1</td>\n      <td>massive dataset important llm like chatgpt get...</td>\n    </tr>\n    <tr>\n      <th>4</th>\n      <td>2</td>\n      <td>ChatGPT redpille fed</td>\n    </tr>\n  </tbody>\n</table>\n</div>"
     },
     "execution_count": 39,
     "metadata": {},
     "output_type": "execute_result"
    }
   ],
   "source": [
    "df_new = df_new.drop(columns=['labels', 'tweets'])\n",
    "df_new.head()"
   ],
   "metadata": {
    "collapsed": false,
    "ExecuteTime": {
     "end_time": "2023-12-27T07:13:06.784746900Z",
     "start_time": "2023-12-27T07:13:06.768069500Z"
    }
   },
   "id": "b56ef635452f9af8"
  },
  {
   "cell_type": "code",
   "outputs": [],
   "source": [
    "df_new.to_csv(\n",
    "    \"processed_file.csv\",\n",
    "    index=False\n",
    ")"
   ],
   "metadata": {
    "collapsed": false,
    "ExecuteTime": {
     "end_time": "2023-12-27T07:23:05.397656500Z",
     "start_time": "2023-12-27T07:23:05.349971900Z"
    }
   },
   "id": "a22ad91232f4ce11",
   "execution_count": 41
  }
 ],
 "metadata": {
  "kernelspec": {
   "display_name": "Python 3",
   "language": "python",
   "name": "python3"
  },
  "language_info": {
   "codemirror_mode": {
    "name": "ipython",
    "version": 2
   },
   "file_extension": ".py",
   "mimetype": "text/x-python",
   "name": "python",
   "nbconvert_exporter": "python",
   "pygments_lexer": "ipython2",
   "version": "2.7.6"
  }
 },
 "nbformat": 4,
 "nbformat_minor": 5
}
